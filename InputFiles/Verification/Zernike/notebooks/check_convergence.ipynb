{
 "cells": [
  {
   "cell_type": "markdown",
   "metadata": {},
   "source": [
    "# Verifications for the Zernike branch\n",
    "\n",
    "## 0. Set up the environment\n",
    "\n",
    "This notebook compares the Zernike branch and the master (v2.10) branch. These tests should take less than an hour to complete.\n",
    "\n",
    "### 0.1 Clone and compile\n",
    "To start, please checkout the Zernike branch and the master branch (__v2.10, not the latest master__) in two different folders. The following git commands clone these two branches into a folder `Zernike` and a folder `master`.\n",
    "\n",
    "```\n",
    "git clone -b Zernike https://github.com/PrincetonUniversity/SPEC.git Zernike\n",
    "git clone -b v2.10 https://github.com/PrincetonUniversity/SPEC.git master\n",
    "```\n",
    "\n",
    "After cloning, please compile them seperately as normal.\n",
    "\n",
    "### 0.2 Dependencies\n",
    "Before running this notebook, one will need to set up the `py_spec` package. __Please use the package in the Zernike branch, not the master branch or pypi branch!!!__ \n",
    "\n",
    "One will need `numpy`, `h5py` and `f90nml` packages. If you haven't installed them, please do so by\n",
    "\n",
    "`pip install --user numpy h5py f90nml`\n",
    "\n",
    "Or one can choose to use `conda` to manage the packages.\n",
    "\n",
    "One can set up the `py_spec` package by the following two means:\n",
    "\n",
    "1. Setting the environment before starting Jupyter Notebook\n",
    "\n",
    "`export PYTHONPATH=$PYTHONPATH:/path/to/Zernike/Utilities/pythontools`\n",
    "\n",
    "2. Setting the environment in this Notebook by copying the following commands into a new cell and running them before anything else in this notebook:\n",
    "\n",
    "```python\n",
    "import sys\n",
    "sys.path.append('/path/to/Zernike/Utilities/pythontools')\n",
    "```\n",
    "\n",
    "Then we can import `py_spec` and relevant objects in it.\n",
    "\n",
    "__Important: check the version of the `py_spec` package. It should be `0.0.1 Zernike` !!!__"
   ]
  },
  {
   "cell_type": "code",
   "execution_count": 1,
   "metadata": {},
   "outputs": [],
   "source": [
    "import sys\n",
    "sys.path.append('/home/abaillod/SPEC/Utilities/pythontools')"
   ]
  },
  {
   "cell_type": "code",
   "execution_count": 2,
   "metadata": {},
   "outputs": [
    {
     "name": "stdout",
     "output_type": "stream",
     "text": [
      "0.0.1 Zernike\n"
     ]
    }
   ],
   "source": [
    "import py_spec\n",
    "from py_spec import SPEC\n",
    "from py_spec.SPECNamelist import SPECNamelist\n",
    "import os\n",
    "import numpy as np\n",
    "print(py_spec.__version__)"
   ]
  },
  {
   "cell_type": "markdown",
   "metadata": {},
   "source": [
    "### 0.3 Specify the path to the input files and the path to the executables, for both v2.10 and the Zernike branch\n",
    "\n",
    "__Please change the following paths to match your machine.__ Also set up the mpi command."
   ]
  },
  {
   "cell_type": "code",
   "execution_count": 3,
   "metadata": {},
   "outputs": [],
   "source": [
    "Zernike_home_folder='/Users/zhisong/Codes/SPEC_hdf5master/SPEC'\n",
    "Zernike_executable='/Users/zhisong/Codes/SPEC_hdf5master/SPEC/xspec'\n",
    "\n",
    "master_home_folder='/Users/zhisong/Codes/SPEC_cc/SPEC'\n",
    "master_executable='/Users/zhisong/Codes/SPEC_cc/SPEC/xspec'\n",
    "\n",
    "mpirun = 'mpirun -np'\n",
    "#mpirun = 'mpiexec -n'"
   ]
  },
  {
   "cell_type": "markdown",
   "metadata": {},
   "source": [
    "### 0.4 Define a few helper functions that runs the cases and compares the results"
   ]
  },
  {
   "cell_type": "code",
   "execution_count": 4,
   "metadata": {},
   "outputs": [],
   "source": [
    "def run_case(input_file_name, ncpus=1, LradZernike=None, Lradmaster=None, Mpol=None, Ntor=None, others=None):\n",
    "    \n",
    "    class Result:\n",
    "        pass\n",
    "    \n",
    "    # For the Zernike branch\n",
    "\n",
    "    # enter Zernike test directory\n",
    "    os.chdir(Zernike_home_folder)\n",
    "    # uses 3 cpus\n",
    "    Zernike_xspec_command=mpirun + ' {:d} ' + Zernike_executable\n",
    "    Zernike_xspec_command=Zernike_xspec_command.format(ncpus)\n",
    "\n",
    "    # read the namelist\n",
    "    Zernike_namelist = SPECNamelist(input_file_name)\n",
    "    # compute the force gradient from scratch\n",
    "    Zernike_namelist['globallist']['LreadGF']=False\n",
    "    # do not update Bns initially\n",
    "    Zernike_namelist['numericlist']['LautoinitBn'] = 0\n",
    "    # do not generate Poincare plots\n",
    "    Zernike_namelist['diagnosticslist']['nppts']=0\n",
    "    # replace the Lrad\n",
    "    if LradZernike is not None:\n",
    "        Zernike_namelist['physicslist']['Lrad'][0] = LradZernike\n",
    "\n",
    "    # For the v2.1 branch\n",
    "\n",
    "    # enter master test directory\n",
    "    os.chdir(master_home_folder)\n",
    "    # uses 3 cpus\n",
    "    master_xspec_command=mpirun + ' {:d} ' + master_executable\n",
    "    master_xspec_command=master_xspec_command.format(ncpus)\n",
    "\n",
    "    # read the namelist\n",
    "    master_namelist = SPECNamelist(input_file_name)\n",
    "    # compute the force gradient from scratch\n",
    "    master_namelist['globallist']['LreadGF']=False\n",
    "    # do not update Bns initially\n",
    "    master_namelist['numericlist']['LautoinitBn'] = 0\n",
    "    # do not generate Poincare plots\n",
    "    master_namelist['diagnosticslist']['nppts']=0\n",
    "    # replace the Lrad\n",
    "    if Lradmaster is not None:\n",
    "        master_namelist['physicslist']['Lrad'][0] = Lradmaster\n",
    "        \n",
    "        \n",
    "    # replace Mpol or Ntor\n",
    "    if Mpol is not None or Ntor is not None:\n",
    "        if Ntor is None:\n",
    "            Ntor = Zernike_namelist['physicslist']['Ntor']\n",
    "        if Mpol is None:\n",
    "            Mtor = Zernike_namelist['physicslist']['Ntor']\n",
    "        Zernike_namelist.update_resolution(Mpol, Ntor)\n",
    "        master_namelist.update_resolution(Mpol, Ntor)\n",
    "        \n",
    "    # replace other namelist items\n",
    "    if others is not None:\n",
    "        for item in others:\n",
    "            Zernike_namelist[item[0]][item[1]]=item[2]\n",
    "            master_namelist[item[0]][item[1]]=item[2]\n",
    "        \n",
    "    # run the cases\n",
    "    os.chdir(Zernike_home_folder)\n",
    "    Zernike_output = Zernike_namelist.run(Zernike_xspec_command, force=True)\n",
    "    os.chdir(master_home_folder)\n",
    "    master_output = master_namelist.run(master_xspec_command, force=True)\n",
    "\n",
    "    # define the result object\n",
    "    result = Result()\n",
    "    result.Zernike_output = Zernike_output\n",
    "    result.master_output = master_output\n",
    "    \n",
    "    return result\n",
    "\n",
    "def check_interface(result, key='Rbc', rtol=1e-12):\n",
    "    # check if Rbc matches\n",
    "    Zernike_b=np.array(getattr(result.Zernike_output.output, key))\n",
    "    master_b=np.array(getattr(result.master_output.output, key))\n",
    "    \n",
    "    b_diff = np.max(np.abs(Zernike_b - master_b)) \n",
    "\n",
    "    if (b_diff < rtol):\n",
    "        print(key, \" matches, diff\", b_diff)\n",
    "    else:\n",
    "        print(key, \" doesn't match, diff\", b_diff)\n",
    "        \n",
    "def check_field_on_interfaces(result, key='Bp', rtol=1e-12):\n",
    "    # check if the magnetic field in xyz matches on the interfaces\n",
    "    Mvol = result.Zernike_output.output.Mvol\n",
    "    \n",
    "    diff_B_max = 0.0\n",
    "    B_max = 0.0\n",
    "    for lvol in range(Mvol):\n",
    "        Zernike_B = np.array(getattr(result.Zernike_output.grid, key)[0])\n",
    "        master_B = np.array(getattr(result.master_output.grid, key)[0])\n",
    "        # the inner boundary\n",
    "        if (lvol > 0):\n",
    "            diff_B = np.abs(Zernike_B[:,0]-master_B[:,0])\n",
    "            diff_B_max = np.max([diff_B_max, np.max(diff_B)])\n",
    "            B_max = np.max([B_max, np.max(np.abs(Zernike_B[:,0]))])\n",
    "\n",
    "        # the outer boundary\n",
    "        diff_B = np.abs(Zernike_B[:,-1]-master_B[:,-1])\n",
    "        diff_B_max = np.max([diff_B_max, np.max(diff_B)])\n",
    "        B_max = np.max([B_max, np.max(np.abs(Zernike_B[:,-1]))])\n",
    "\n",
    "    # evaluate error\n",
    "    diff_B_max = diff_B_max \n",
    "\n",
    "    if (diff_B_max < rtol):\n",
    "        print(key, \" matches, diff\", diff_B_max)\n",
    "    else:\n",
    "        print(key, \" doesn't match, diff\", diff_B_max)"
   ]
  },
  {
   "cell_type": "markdown",
   "metadata": {},
   "source": [
    "## 1. Test Lconstraint=0,1,2 cases, fixed boundary\n",
    "### 1.1 Five volume slab with Lconstraint=0\n",
    "The example here uses Lrad=16. Since the radial resolution is very high, they should give the same answer. The magnetic field on the interfaces should match.\n",
    "\n",
    "__We only compare `Bp` ($B_z$) for slabs and cylinders since the other components have different definitions in the master vs Zernike branch.__\n",
    "\n",
    "_It takes approximately a few seconds to complete the runs._"
   ]
  },
  {
   "cell_type": "code",
   "execution_count": 5,
   "metadata": {
    "tags": []
   },
   "outputs": [
    {
     "name": "stdout",
     "output_type": "stream",
     "text": [
      "SPEC is running...\n",
      "SPEC runs successfully.\n",
      "SPEC is running...\n",
      "SPEC runs successfully.\n",
      "Rbc  matches, diff 1.1102230246251565e-16\n",
      "Bp  matches, diff 5.551115123125783e-17\n"
     ]
    }
   ],
   "source": [
    "input_file_name='InputFiles/TestCases/G1V05L0Fi.001.sp'\n",
    "result = run_case(input_file_name, ncpus=2)\n",
    "\n",
    "check_interface(result, key='Rbc')\n",
    "check_field_on_interfaces(result, key='Bp')"
   ]
  },
  {
   "cell_type": "markdown",
   "metadata": {},
   "source": [
    "### 1.2 Three volume slab with Lconstraint=2\n",
    "The example here uses Lrad=16. Since the radial resolution is very high, they should give the same answer. The magnetic field on the interfaces should match.\n",
    "This case is used in ci.\n",
    "\n",
    "_It takes approximately a few seconds to complete the runs._"
   ]
  },
  {
   "cell_type": "code",
   "execution_count": 6,
   "metadata": {
    "tags": []
   },
   "outputs": [
    {
     "name": "stdout",
     "output_type": "stream",
     "text": [
      "SPEC is running...\n",
      "SPEC runs successfully.\n",
      "SPEC is running...\n",
      "SPEC runs successfully.\n",
      "Rbc  matches, diff 1.7763568394002505e-15\n",
      "Bp  matches, diff 6.938893903907228e-18\n"
     ]
    }
   ],
   "source": [
    "input_file_name='InputFiles/TestCases/G1V03L2Fi.002.sp'\n",
    "result = run_case(input_file_name, ncpus=2)\n",
    "\n",
    "check_interface(result, key='Rbc')\n",
    "check_field_on_interfaces(result, key='Bp')"
   ]
  },
  {
   "cell_type": "markdown",
   "metadata": {},
   "source": [
    "### 1.3 32 volume cylinder with Lconstraint=1\n",
    "The example here uses Lrad=12. Since the radial resolution is very high, they should give the same answer. The magnetic field on the interfaces should match.\n",
    "This case is used in ci.\n",
    "\n",
    "_It takes approximately a few seconds to complete the runs._"
   ]
  },
  {
   "cell_type": "code",
   "execution_count": 8,
   "metadata": {
    "tags": []
   },
   "outputs": [
    {
     "name": "stdout",
     "output_type": "stream",
     "text": [
      "Initial guess of the interface geometry ignored: line  102\n",
      "Initial guess of the interface geometry ignored: line  102\n",
      "SPEC is running...\n",
      "SPEC runs successfully.\n",
      "SPEC is running...\n",
      "SPEC runs successfully.\n",
      "Rbc  matches, diff 4.440892098500626e-16\n",
      "Bp  matches, diff 1.4432899320127035e-15\n"
     ]
    }
   ],
   "source": [
    "input_file_name='ci/G2V32L1Fi/G2V32L1Fi.001.sp'\n",
    "result = run_case(input_file_name, ncpus=2)\n",
    "\n",
    "check_interface(result, key='Rbc')\n",
    "check_field_on_interfaces(result, key='Bp')"
   ]
  },
  {
   "cell_type": "markdown",
   "metadata": {},
   "source": [
    "### 1.4 Two-volume rotating ellipse case with Lconstraint=1\n",
    "We force it to have Lrad=16 in the first volume. Since the radial resolution is very high, they should give the same answer. The magnetic field on the interfaces should match.\n",
    "\n",
    "_It takes approximately 5 mins to complete the runs. (10s for Zernike, 5 mins for master)_"
   ]
  },
  {
   "cell_type": "code",
   "execution_count": 10,
   "metadata": {
    "tags": []
   },
   "outputs": [
    {
     "name": "stdout",
     "output_type": "stream",
     "text": [
      "SPEC is running...\n",
      "SPEC runs successfully.\n",
      "SPEC is running...\n",
      "SPEC runs successfully.\n",
      "Rbc  matches, diff 2.6290081223123707e-13\n",
      "Zbs  matches, diff 1.3888890038060708e-13\n",
      "BR  matches, diff 3.728614639264549e-14\n",
      "BZ  matches, diff 3.0107860649053464e-14\n",
      "Bp  matches, diff 6.50868248186498e-15\n"
     ]
    }
   ],
   "source": [
    "input_file_name='InputFiles/TestCases/G3V02L1Fi.001.sp'\n",
    "result = run_case(input_file_name, ncpus=2, LradZernike=16, Lradmaster=12)\n",
    "\n",
    "check_interface(result, key='Rbc')\n",
    "check_interface(result, key='Zbs')\n",
    "check_field_on_interfaces(result, key='BR')\n",
    "check_field_on_interfaces(result, key='BZ')\n",
    "check_field_on_interfaces(result, key='Bp')"
   ]
  },
  {
   "cell_type": "markdown",
   "metadata": {},
   "source": [
    "### 1.5 Single-volume W7X OP1.1 fixed boundary\n",
    "\n",
    "The magnetic field on the plasma boundary is compared, tolerance set to 1e-11 (further increase resolution will lead to ill-conditioning in the master branch)\n",
    "\n",
    "_It takes approximately a minute to complete the runs. (5s for Zernike, 30s for master)_"
   ]
  },
  {
   "cell_type": "code",
   "execution_count": 11,
   "metadata": {
    "tags": []
   },
   "outputs": [
    {
     "name": "stdout",
     "output_type": "stream",
     "text": [
      "SPEC is running...\n",
      "SPEC runs successfully.\n",
      "SPEC is running...\n",
      "SPEC runs successfully.\n",
      "BR  matches, diff 4.003131159890927e-12\n",
      "BZ  matches, diff 4.488409643954583e-12\n",
      "Bp  matches, diff 2.938205234670477e-13\n"
     ]
    }
   ],
   "source": [
    "input_file_name='InputFiles/TestCases/G3V01L0Fi.002.sp'\n",
    "result = run_case(input_file_name, ncpus=1, LradZernike=32, Lradmaster=14, Mpol=8, Ntor=8)\n",
    "\n",
    "check_field_on_interfaces(result, key='BR',rtol=1e-11)\n",
    "check_field_on_interfaces(result, key='BZ',rtol=1e-11)\n",
    "check_field_on_interfaces(result, key='Bp',rtol=1e-11)"
   ]
  },
  {
   "cell_type": "markdown",
   "metadata": {},
   "source": [
    "## 2. Test Lconstraint=0,1,2 cases, free boundary\n",
    "### 2.1 Three-volume free-boundary vacuum case without stellarator symmetry, FOCUS coil\n",
    "Section 4.1 and Figure 1 in Hudson PPCF 2020 free-boundary SPEC paper\n",
    "\n",
    "_It takes approximately 10 mins to complete the runs. (10s for Zernike, 10mins for master)_"
   ]
  },
  {
   "cell_type": "code",
   "execution_count": 12,
   "metadata": {
    "tags": []
   },
   "outputs": [
    {
     "name": "stdout",
     "output_type": "stream",
     "text": [
      "SPEC is running...\n",
      "SPEC runs successfully.\n",
      "SPEC is running...\n",
      "SPEC runs successfully.\n",
      "Rbc  matches, diff 1.421533247017437e-13\n",
      "Zbs  matches, diff 1.2264096530857638e-13\n",
      "Rbs  matches, diff 4.187157687089195e-13\n",
      "Zbc  matches, diff 3.416257348624191e-13\n",
      "BR  matches, diff 8.243614124658905e-13\n",
      "BZ  matches, diff 8.721582483994794e-13\n",
      "Bp  matches, diff 1.2521095271722515e-12\n"
     ]
    }
   ],
   "source": [
    "input_file_name='ci/toroidal_freeboundary_vacuum/G3V02L0Fr.sp'\n",
    "result = run_case(input_file_name, ncpus=3, LradZernike=24, Lradmaster=14)\n",
    "\n",
    "check_interface(result, key='Rbc',rtol=1e-11)\n",
    "check_interface(result, key='Zbs',rtol=1e-11)\n",
    "check_interface(result, key='Rbs',rtol=1e-11)\n",
    "check_interface(result, key='Zbc',rtol=1e-11)\n",
    "check_field_on_interfaces(result, key='BR',rtol=1e-11)\n",
    "check_field_on_interfaces(result, key='BZ',rtol=1e-11)\n",
    "check_field_on_interfaces(result, key='Bp',rtol=1e-11)"
   ]
  },
  {
   "cell_type": "markdown",
   "metadata": {},
   "source": [
    "### 2.2 Free-boundary case with Lconstraint=1, Nvol=8, provided by A. Baillod\n",
    "\n",
    "In this case we have to allow lower error (1e-11) tolerance between the two branches since further increasing `Lrad` for the master branch will lead to ill-conditioning.\n",
    "\n",
    "_It takes approximately 30s to complete the runs. (10s for Zernike, 20s for master)_\n",
    "\n",
    "__Important: Interestingly, with intel-17 compiler this case may fail. But it is fine with other compilers (including a different version of Intel). Please let Zhisong know if there is a problem with your compiler.__"
   ]
  },
  {
   "cell_type": "code",
   "execution_count": 13,
   "metadata": {
    "tags": []
   },
   "outputs": [
    {
     "name": "stdout",
     "output_type": "stream",
     "text": [
      "SPEC is running...\n",
      "SPEC runs successfully.\n",
      "SPEC is running...\n",
      "SPEC runs successfully.\n",
      "Rbc  matches, diff 1.071143174158351e-12\n",
      "Zbs  matches, diff 1.7132961716015416e-12\n",
      "BR  matches, diff 2.5223096181137272e-14\n",
      "BZ  matches, diff 2.5393315922217496e-14\n",
      "Bp  matches, diff 8.146261443187086e-15\n"
     ]
    }
   ],
   "source": [
    "input_file_name='InputFiles/TestCases/G3V08L1Fr.001.sp'\n",
    "\n",
    "replace_namelist = list()\n",
    "replace_namelist.append(('numericlist', 'Ndiscrete', 4))\n",
    "\n",
    "result = run_case(input_file_name, ncpus=3, LradZernike=22, Lradmaster=9, others=replace_namelist)\n",
    "\n",
    "check_interface(result, key='Rbc', rtol=1e-11)\n",
    "check_interface(result, key='Zbs', rtol=1e-11)\n",
    "check_field_on_interfaces(result, key='BR', rtol=1e-11)\n",
    "check_field_on_interfaces(result, key='BZ', rtol=1e-11)\n",
    "check_field_on_interfaces(result, key='Bp', rtol=1e-11)"
   ]
  },
  {
   "cell_type": "markdown",
   "metadata": {},
   "source": [
    "### 2.3 VMEC-SPEC benchmark case, 8 volumes\n",
    "\n",
    "Section 4.6, Figure 13 and 14 in Hudson PPCF 2020 free-boundary SPEC paper\n",
    "\n",
    "In this case we reduce `Mpol` to 8 to avoid ill-conditioning. We do not compare to VMEC, but compare the result from the two branches. We have to allow lower error (1e-10) tolerance.\n",
    "\n",
    "_It takes approximately 3 mins to complete the runs. (1 mins for Zernike, 2 mins for master)_\n",
    "\n",
    "__Important: Interestingly, with intel-17 compiler this case may fail. But it is fine with other compilers (including a different version of Intel). Please let Zhisong know if there is a problem with your compiler.__"
   ]
  },
  {
   "cell_type": "code",
   "execution_count": 14,
   "metadata": {
    "tags": []
   },
   "outputs": [
    {
     "name": "stdout",
     "output_type": "stream",
     "text": [
      "SPEC is running...\n",
      "SPEC runs successfully.\n",
      "SPEC is running...\n",
      "SPEC runs successfully.\n",
      "Rbc  matches, diff 8.82605100116507e-12\n",
      "Zbs  matches, diff 1.4408696458190207e-11\n",
      "BR  matches, diff 2.172437577052655e-14\n",
      "BZ  matches, diff 1.5379190976272383e-14\n",
      "Bp  matches, diff 2.6346980153135746e-14\n"
     ]
    }
   ],
   "source": [
    "input_file_name='InputFiles/Verification/FreeBoundVMEC/Nv=008.L=12.M=32.n.sp.end'\n",
    "\n",
    "replace_namelist = list()\n",
    "replace_namelist.append(('globallist', 'gBntol', 1e-9))\n",
    "replace_namelist.append(('numericlist', 'Ndiscrete', 4))\n",
    "\n",
    "result = run_case(input_file_name, ncpus=3, LradZernike=16, Lradmaster=10, Mpol=8, others=replace_namelist)\n",
    "\n",
    "check_interface(result, key='Rbc', rtol=1e-10)\n",
    "check_interface(result, key='Zbs', rtol=1e-10)\n",
    "check_field_on_interfaces(result, key='BR', rtol=1e-10)\n",
    "check_field_on_interfaces(result, key='BZ', rtol=1e-10)\n",
    "check_field_on_interfaces(result, key='Bp', rtol=1e-10)"
   ]
  },
  {
   "cell_type": "markdown",
   "metadata": {},
   "source": [
    "## 3. Current constraint\n",
    "### 3.1-Fixed boundary, Lconstraint=3, Lfindzero=1 test \n",
    "\n",
    "Test the Beltrami field and evaluation of the force with the current constraint. The force gradient (Lfindzero=2) is not used here.\n",
    "\n",
    "_This case takes approximately 2mins to run_\n",
    "\n"
   ]
  },
  {
   "cell_type": "code",
   "execution_count": 15,
   "metadata": {
    "tags": []
   },
   "outputs": [
    {
     "name": "stdout",
     "output_type": "stream",
     "text": [
      "SPEC is running...\n",
      "SPEC runs successfully.\n",
      "SPEC is running...\n",
      "SPEC runs successfully.\n",
      "Rbc  matches, diff 2.984279490192421e-13\n",
      "Zbs  matches, diff 1.294415963304374e-13\n",
      "BR  matches, diff 6.757094883624859e-14\n",
      "BZ  matches, diff 4.917594109699053e-14\n",
      "Bp  matches, diff 1.0436096431476471e-14\n"
     ]
    }
   ],
   "source": [
    "\n",
    "input_file_name = 'InputFiles/Verification/currentconstraint/TestCases_Comparison/G3V02L3Fi.001.sp'\n",
    "\n",
    "replace_namelist = list()\n",
    "replace_namelist.append(('numericlist', 'Ndiscrete', 4))\n",
    "\n",
    "result = run_case(input_file_name, ncpus=2, LradZernike=16, Lradmaster=10, others=replace_namelist)\n",
    "\n",
    "check_interface(result, key='Rbc')\n",
    "check_interface(result, key='Zbs')\n",
    "check_field_on_interfaces(result, key='BR')\n",
    "check_field_on_interfaces(result, key='BZ')\n",
    "check_field_on_interfaces(result, key='Bp')"
   ]
  },
  {
   "cell_type": "markdown",
   "metadata": {},
   "source": [
    "### 3.2 Fixed-boundary test in slab geometry with current constraint\n",
    "\n",
    "Test the current constraint capability in slab geometry\n",
    "\n",
    "_Expect less than 10s for the Zernike branch to run and about 40s for the master branch to run_"
   ]
  },
  {
   "cell_type": "code",
   "execution_count": 18,
   "metadata": {},
   "outputs": [
    {
     "name": "stdout",
     "output_type": "stream",
     "text": [
      "SPEC is running...\n",
      "SPEC runs successfully.\n",
      "SPEC is running...\n",
      "SPEC runs successfully.\n",
      "Rbc  matches, diff 1.865174681370263e-14\n",
      "Zbs  matches, diff 0.0\n",
      "Bp  matches, diff 4.440892098500626e-15\n"
     ]
    }
   ],
   "source": [
    "input_file_name = 'InputFiles/TestCases/G1V02L3Fi.001.sp'\n",
    "\n",
    "replace_namelist = list()\n",
    "replace_namelist.append(('numericlist', 'Ndiscrete', 4))\n",
    "\n",
    "result = run_case(input_file_name, ncpus=2, LradZernike=16, Lradmaster=10, Mpol=4, Ntor=2, others=replace_namelist)\n",
    "\n",
    "check_interface(result, key='Rbc')\n",
    "check_interface(result, key='Zbs')\n",
    "check_field_on_interfaces(result, key='Bp')"
   ]
  },
  {
   "cell_type": "markdown",
   "metadata": {},
   "source": [
    "### 3.3 Fixed-boundary test in cylindrical geometry with current constraint\n",
    "\n",
    "Test the current constraint capability in cylindrical geometry\n",
    "\n",
    "_Expect the Zernike branch to run in about 20s and the master branch in about the same_"
   ]
  },
  {
   "cell_type": "code",
   "execution_count": 21,
   "metadata": {},
   "outputs": [
    {
     "name": "stdout",
     "output_type": "stream",
     "text": [
      "Initial guess of the interface geometry ignored: line  105\n",
      "Initial guess of the interface geometry ignored: line  104\n",
      "SPEC is running...\n",
      "SPEC runs successfully.\n",
      "SPEC is running...\n",
      "SPEC runs successfully.\n",
      "Rbc  matches, diff 9.020562075079397e-16\n",
      "Zbs  matches, diff 0.0\n",
      "Bp  matches, diff 2.1094237467877974e-15\n"
     ]
    }
   ],
   "source": [
    "input_file_name = 'InputFiles/TestCases/G2V32L3Fi.001.sp'\n",
    "\n",
    "replace_namelist = list()\n",
    "replace_namelist.append(('numericlist', 'Ndiscrete', 4))\n",
    "\n",
    "result = run_case(input_file_name, ncpus=4, LradZernike=18, Lradmaster=14, others=replace_namelist)\n",
    "\n",
    "check_interface(result, key='Rbc')\n",
    "check_interface(result, key='Zbs')\n",
    "check_field_on_interfaces(result, key='Bp')"
   ]
  },
  {
   "cell_type": "markdown",
   "metadata": {},
   "source": [
    "### 3.4 Free-boundary test in toroidal geometry with current constraint\n",
    "\n",
    "Test the current constraint capability in toroidal geometry This is rather long to run due to the low value of _gBntol_. For some reasons, the master branch appears to be faster than the Zernike branch on this case.\n",
    "\n",
    "The tolerance on RBc and ZBs is set to 1E-10 which might seem large. This can be lowered at the cost of lowering gBntol, which increases drastically the computation time. This value has thus been set for the sake of a rapid test.\n",
    "\n",
    "__Important: The master branch contains a bug that may lead to array out of bound error. If it causes segmentation fault on your machine, you will need to apply the following modification.__\n",
    "\n",
    "`master` branch, `dforce.f90`, Line 156, change the size of `ipiv` to\n",
    "```fortran\n",
    "INTEGER              :: ipiv(1:Mvol)\n",
    "```\n",
    "Then the code should work fine.\n",
    "\n",
    "_Expect ~12min for Zernike (36 free-boundary iterations) and 10min for master branch_"
   ]
  },
  {
   "cell_type": "code",
   "execution_count": 29,
   "metadata": {
    "tags": []
   },
   "outputs": [
    {
     "name": "stdout",
     "output_type": "stream",
     "text": [
      "SPEC is running...\n",
      "SPEC runs successfully.\n",
      "SPEC is running...\n",
      "SPEC runs successfully.\n",
      "Rbc  matches, diff 1.866062859789963e-11\n",
      "Zbs  matches, diff 3.1743774275838632e-12\n",
      "BR  matches, diff 4.339280670895285e-14\n",
      "BZ  matches, diff 2.2952993672387123e-14\n",
      "Bp  matches, diff 3.070946275052222e-13\n"
     ]
    }
   ],
   "source": [
    "input_file_name = 'InputFiles/TestCases/G3V08L3Fr.001.sp'\n",
    "\n",
    "replace_namelist = list()\n",
    "replace_namelist.append(('numericlist', 'Ndiscrete', 4))\n",
    "replace_namelist.append(('globallist', 'gBNtol', 1E-10))\n",
    "replace_namelist.append(('globallist', 'gBnbld', 0.2))\n",
    "replace_namelist.append(('globallist', 'Lfindzero', 2))\n",
    "replace_namelist.append(('globallist', 'mfreeits', 100))\n",
    "\n",
    "result = run_case(input_file_name, ncpus=3, LradZernike=18, Lradmaster=12, Mpol=2, Ntor=1, others=replace_namelist)\n",
    "\n",
    "check_interface(result, key='Rbc', rtol=1e-10)\n",
    "check_interface(result, key='Zbs', rtol=1e-10)\n",
    "check_field_on_interfaces(result, key='BR')\n",
    "check_field_on_interfaces(result, key='BZ')\n",
    "check_field_on_interfaces(result, key='Bp')"
   ]
  }
 ],
 "metadata": {
  "kernelspec": {
   "display_name": "Python 3",
   "language": "python",
   "name": "python3"
  },
  "language_info": {
   "codemirror_mode": {
    "name": "ipython",
    "version": 3
   },
   "file_extension": ".py",
   "mimetype": "text/x-python",
   "name": "python",
   "nbconvert_exporter": "python",
   "pygments_lexer": "ipython3",
   "version": "3.8.3"
  }
 },
 "nbformat": 4,
 "nbformat_minor": 4
}
