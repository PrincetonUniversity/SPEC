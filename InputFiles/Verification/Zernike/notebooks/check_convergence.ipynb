{
 "cells": [
  {
   "cell_type": "markdown",
   "metadata": {},
   "source": [
    "# Verifications for the Zernike branch\n",
    "\n",
    "## 0. Set up the environment\n",
    "\n",
    "This notebook compares the Zernike branch and the master (v2.10) branch. These tests should take less than an hour to complete.\n",
    "\n",
    "### 0.1 Clone and compile\n",
    "To start, please checkout the Zernike branch and the master branch (__v2.10, not the latest master__) in two different folders. The following git commands clone these two branches into a folder `Zernike` and a folder `master`.\n",
    "\n",
    "```\n",
    "git clone -b Zernike https://github.com/PrincetonUniversity/SPEC.git Zernike\n",
    "git clone -b v2.10 https://github.com/PrincetonUniversity/SPEC.git master\n",
    "```\n",
    "\n",
    "After cloning, please compile them seperately as normal.\n",
    "\n",
    "### 0.2 Dependencies\n",
    "Before running this notebook, one will need to set up the `py_spec` package. Please use the package in the Zernike branch, not the master branch. \n",
    "\n",
    "One will need `numpy`, `h5py` and `f90nml` packages. If you haven't installed them, please do so by\n",
    "\n",
    "`pip install --user numpy h5py f90nml`\n",
    "\n",
    "Or one can choose to use `conda` to manage the packages.\n",
    "\n",
    "One can set up the `py_spec` package by the following two means:\n",
    "\n",
    "1. Setting the environment before starting Jupyter Notebook\n",
    "\n",
    "`export PYTHONPATH=$PYTHONPATH:/path/to/Zernike/Utilities/pythontools`\n",
    "\n",
    "2. Setting the environment in this Notebook by copying the following commands into a new cell and running them before anything else in this notebook:\n",
    "\n",
    "```python\n",
    "import sys\n",
    "sys.path.append('/path/to/Zernike/Utilities/pythontools')\n",
    "```\n",
    "\n",
    "Then we can import `py_spec` and relevant objects in it."
   ]
  },
  {
   "cell_type": "code",
   "execution_count": 1,
   "metadata": {},
   "outputs": [],
   "source": [
    "import sys\n",
    "sys.path.append('/home/abaillod/SPEC/Utilities/pythontools')"
   ]
  },
  {
   "cell_type": "code",
   "execution_count": 2,
   "metadata": {},
   "outputs": [],
   "source": [
    "import py_spec\n",
    "from py_spec import SPEC\n",
    "from py_spec.SPECNamelist import SPECNamelist\n",
    "import os\n",
    "import numpy as np"
   ]
  },
  {
   "cell_type": "markdown",
   "metadata": {},
   "source": [
    "### 0.3 Specify the path to the input files and the path to the executables, for both v2.10 and the Zernike branch\n",
    "\n",
    "__Please change the following paths to match your machine.__ Also set up the mpi command."
   ]
  },
  {
   "cell_type": "code",
   "execution_count": 3,
   "metadata": {},
   "outputs": [],
   "source": [
    "Zernike_home_folder='/home/abaillod/SPEC'\n",
    "Zernike_executable='/home/abaillod/SPEC/xspec'\n",
    "\n",
    "master_home_folder='/home/abaillod/development/code/master'\n",
    "master_executable='/home/abaillod/development/code/master/xspec'\n",
    "\n",
    "mpirun = 'mpirun'"
   ]
  },
  {
   "cell_type": "markdown",
   "metadata": {},
   "source": [
    "### 0.4 Define a few helper functions that runs the cases and compares the results"
   ]
  },
  {
   "cell_type": "code",
   "execution_count": 4,
   "metadata": {},
   "outputs": [],
   "source": [
    "def run_case(input_file_name, ncpus=1, LradZernike=None, Lradmaster=None, Mpol=None, Ntor=None, others=None):\n",
    "    \n",
    "    class Result:\n",
    "        pass\n",
    "    \n",
    "    # For the Zernike branch\n",
    "\n",
    "    # enter Zernike test directory\n",
    "    os.chdir(Zernike_home_folder)\n",
    "    # uses 3 cpus\n",
    "    Zernike_xspec_command=mpirun + ' -np {:d} ' + Zernike_executable\n",
    "    Zernike_xspec_command=Zernike_xspec_command.format(ncpus)\n",
    "\n",
    "    # read the namelist\n",
    "    Zernike_namelist = SPECNamelist(input_file_name)\n",
    "    # compute the force gradient from scratch\n",
    "    Zernike_namelist['globallist']['LreadGF']=False\n",
    "    # do not update Bns initially\n",
    "    Zernike_namelist['numericlist']['LautoinitBn'] = 0\n",
    "    # do not generate Poincare plots\n",
    "    Zernike_namelist['diagnosticslist']['nppts']=0\n",
    "    # replace the Lrad\n",
    "    if LradZernike is not None:\n",
    "        Zernike_namelist['physicslist']['Lrad'][0] = LradZernike\n",
    "\n",
    "    # For the v2.1 branch\n",
    "\n",
    "    # enter master test directory\n",
    "    os.chdir(master_home_folder)\n",
    "    # uses 3 cpus\n",
    "    master_xspec_command=mpirun + ' -np {:d} ' + master_executable\n",
    "    master_xspec_command=master_xspec_command.format(ncpus)\n",
    "\n",
    "    # read the namelist\n",
    "    master_namelist = SPECNamelist(input_file_name)\n",
    "    # compute the force gradient from scratch\n",
    "    master_namelist['globallist']['LreadGF']=False\n",
    "    # do not update Bns initially\n",
    "    master_namelist['numericlist']['LautoinitBn'] = 0\n",
    "    # do not generate Poincare plots\n",
    "    master_namelist['diagnosticslist']['nppts']=0\n",
    "    # replace the Lrad\n",
    "    if Lradmaster is not None:\n",
    "        master_namelist['physicslist']['Lrad'][0] = Lradmaster\n",
    "        \n",
    "        \n",
    "    # replace Mpol or Ntor\n",
    "    if Mpol is not None or Ntor is not None:\n",
    "        if Ntor is None:\n",
    "            Ntor = Zernike_namelist['physicslist']['Ntor']\n",
    "        if Mpol is None:\n",
    "            Mtor = Zernike_namelist['physicslist']['Ntor']\n",
    "        Zernike_namelist.update_resolution(Mpol, Ntor)\n",
    "        master_namelist.update_resolution(Mpol, Ntor)\n",
    "        \n",
    "    # replace other namelist items\n",
    "    if others is not None:\n",
    "        for item in others:\n",
    "            Zernike_namelist[item[0]][item[1]]=item[2]\n",
    "            master_namelist[item[0]][item[1]]=item[2]\n",
    "        \n",
    "    # run the cases\n",
    "    os.chdir(Zernike_home_folder)\n",
    "    Zernike_output = Zernike_namelist.run(Zernike_xspec_command, force=True)\n",
    "    os.chdir(master_home_folder)\n",
    "    master_output = master_namelist.run(master_xspec_command, force=True)\n",
    "\n",
    "    # define the result object\n",
    "    result = Result()\n",
    "    result.Zernike_output = Zernike_output\n",
    "    result.master_output = master_output\n",
    "    \n",
    "    return result\n",
    "\n",
    "def check_interface(result, key='Rbc', rtol=1e-12):\n",
    "    # check if Rbc matches\n",
    "    Zernike_b=np.array(getattr(result.Zernike_output.output, key))\n",
    "    master_b=np.array(getattr(result.master_output.output, key))\n",
    "    \n",
    "    b_diff = np.max(np.abs(Zernike_b - master_b)) \n",
    "\n",
    "    if (b_diff < rtol):\n",
    "        print(key, \" matches, diff\", b_diff)\n",
    "    else:\n",
    "        print(key, \" doesn't match, diff\", b_diff)\n",
    "        \n",
    "def check_field_on_interfaces(result, key='Bp', rtol=1e-12):\n",
    "    # check if the magnetic field in xyz matches on the interfaces\n",
    "    Mvol = result.Zernike_output.output.Mvol\n",
    "    \n",
    "    diff_B_max = 0.0\n",
    "    B_max = 0.0\n",
    "    for lvol in range(Mvol):\n",
    "        Zernike_B = np.array(getattr(result.Zernike_output.grid, key)[0])\n",
    "        master_B = np.array(getattr(result.master_output.grid, key)[0])\n",
    "        # the inner boundary\n",
    "        if (lvol > 0):\n",
    "            diff_B = np.abs(Zernike_B[:,0]-master_B[:,0])\n",
    "            diff_B_max = np.max([diff_B_max, np.max(diff_B)])\n",
    "            B_max = np.max([B_max, np.max(np.abs(Zernike_B[:,0]))])\n",
    "\n",
    "        # the outer boundary\n",
    "        diff_B = np.abs(Zernike_B[:,-1]-master_B[:,-1])\n",
    "        diff_B_max = np.max([diff_B_max, np.max(diff_B)])\n",
    "        B_max = np.max([B_max, np.max(np.abs(Zernike_B[:,-1]))])\n",
    "\n",
    "    # evaluate error\n",
    "    diff_B_max = diff_B_max \n",
    "\n",
    "    if (diff_B_max < rtol):\n",
    "        print(key, \" matches, diff\", diff_B_max)\n",
    "    else:\n",
    "        print(key, \" doesn't match, diff\", diff_B_max)"
   ]
  },
  {
   "cell_type": "markdown",
   "metadata": {},
   "source": [
    "## 1. Test Lconstraint=0,1,2 cases, fixed boundary\n",
    "### 1.1 Five volume slab with Lconstraint=0\n",
    "The example here uses Lrad=16. Since the radial resolution is very high, they should give the same answer. The magnetic field on the interfaces should match.\n",
    "\n",
    "_It takes approximately a few seconds to complete the runs._"
   ]
  },
  {
   "cell_type": "code",
   "execution_count": 5,
   "metadata": {
    "tags": []
   },
   "outputs": [
    {
     "output_type": "stream",
     "name": "stdout",
     "text": "SPEC is running...\nSPEC runs successfully.\nSPEC is running...\nSPEC runs successfully.\nRbc  matches, diff 1.1102230246251565e-16\nBp  matches, diff 2.7755575615628914e-17\n"
    }
   ],
   "source": [
    "input_file_name='/home/abaillod/SPEC/InputFiles/TestCases/G1V05L0Fi.001.sp'\n",
    "result = run_case(input_file_name, ncpus=2)\n",
    "\n",
    "check_interface(result, key='Rbc')\n",
    "check_field_on_interfaces(result, key='Bp')"
   ]
  },
  {
   "cell_type": "markdown",
   "metadata": {},
   "source": [
    "### 1.2 Three volume slab with Lconstraint=2\n",
    "The example here uses Lrad=16. Since the radial resolution is very high, they should give the same answer. The magnetic field on the interfaces should match.\n",
    "This case is used in ci.\n",
    "\n",
    "_It takes approximately a few seconds to complete the runs._"
   ]
  },
  {
   "cell_type": "code",
   "execution_count": 6,
   "metadata": {
    "tags": []
   },
   "outputs": [
    {
     "output_type": "stream",
     "name": "stdout",
     "text": "SPEC is running...\nSPEC runs successfully.\nSPEC is running...\nSPEC runs successfully.\nRbc  matches, diff 8.881784197001252e-16\nBp  matches, diff 1.0408340855860843e-17\n"
    }
   ],
   "source": [
    "input_file_name='InputFiles/TestCases/G1V03L2Fi.002.sp'\n",
    "result = run_case(input_file_name, ncpus=2)\n",
    "\n",
    "check_interface(result, key='Rbc')\n",
    "check_field_on_interfaces(result, key='Bp')"
   ]
  },
  {
   "cell_type": "markdown",
   "metadata": {},
   "source": [
    "### 1.3 32 volume cylinder with Lconstraint=1\n",
    "The example here uses Lrad=12. Since the radial resolution is very high, they should give the same answer. The magnetic field on the interfaces should match.\n",
    "This case is used in ci.\n",
    "\n",
    "_It takes approximately a few seconds to complete the runs._"
   ]
  },
  {
   "cell_type": "code",
   "execution_count": 7,
   "metadata": {
    "tags": []
   },
   "outputs": [
    {
     "output_type": "stream",
     "name": "stdout",
     "text": "Initial guess of the interface geometry ignored: line  102\nInitial guess of the interface geometry ignored: line  102\nSPEC is running...\nSPEC runs successfully.\nSPEC is running...\nSPEC runs successfully.\nRbc  matches, diff 4.440892098500626e-16\nBp  matches, diff 9.992007221626409e-16\n"
    }
   ],
   "source": [
    "input_file_name='ci/G2V32L1Fi/G2V32L1Fi.001.sp'\n",
    "result = run_case(input_file_name, ncpus=2)\n",
    "\n",
    "check_interface(result, key='Rbc')\n",
    "check_field_on_interfaces(result, key='Bp')"
   ]
  },
  {
   "cell_type": "markdown",
   "metadata": {},
   "source": [
    "### 1.4 Two-volume rotating ellipse case with Lconstraint=1\n",
    "We force it to have Lrad=16 in the first volume. Since the radial resolution is very high, they should give the same answer. The magnetic field on the interfaces should match.\n",
    "\n",
    "_It takes approximately 5 mins to complete the runs. (10s for Zernike, 5 mins for master)_"
   ]
  },
  {
   "cell_type": "code",
   "execution_count": 8,
   "metadata": {
    "tags": []
   },
   "outputs": [
    {
     "output_type": "stream",
     "name": "stdout",
     "text": "SPEC is running...\nSPEC runs successfully.\nSPEC is running...\nSPEC runs successfully.\nRbc  matches, diff 1.6897594434794883e-13\nZbs  matches, diff 1.9884094371036554e-13\nBR  matches, diff 2.362346429585216e-14\nBZ  matches, diff 3.352873534367973e-14\nBp  matches, diff 5.93275428784068e-15\n"
    }
   ],
   "source": [
    "input_file_name='InputFiles/TestCases/G3V02L1Fi.001.sp'\n",
    "result = run_case(input_file_name, ncpus=2, LradZernike=16, Lradmaster=16)\n",
    "\n",
    "check_interface(result, key='Rbc')\n",
    "check_interface(result, key='Zbs')\n",
    "check_field_on_interfaces(result, key='BR')\n",
    "check_field_on_interfaces(result, key='BZ')\n",
    "check_field_on_interfaces(result, key='Bp')"
   ]
  },
  {
   "cell_type": "markdown",
   "metadata": {},
   "source": [
    "### 1.5 Single-volume W7X OP1.1 fixed boundary\n",
    "\n",
    "The magnetic field on the plasma boundary is compared, tolerance set to 1e-11 (further increase resolution will lead to ill-conditioning in the master branch)\n",
    "\n",
    "_It takes approximately a minute to complete the runs. (5s for Zernike, 30s for master)_"
   ]
  },
  {
   "cell_type": "code",
   "execution_count": 9,
   "metadata": {
    "tags": []
   },
   "outputs": [
    {
     "output_type": "stream",
     "name": "stdout",
     "text": "SPEC is running...\nSPEC runs successfully.\nSPEC is running...\nSPEC runs successfully.\nBR  matches, diff 4.070077608275824e-12\nBZ  matches, diff 5.508548478472264e-12\nBp  matches, diff 2.2642998587230068e-13\n"
    }
   ],
   "source": [
    "input_file_name='InputFiles/TestCases/G3V01L0Fi.002.sp'\n",
    "result = run_case(input_file_name, ncpus=1, LradZernike=32, Lradmaster=14, Mpol=8, Ntor=8)\n",
    "\n",
    "check_field_on_interfaces(result, key='BR',rtol=1e-11)\n",
    "check_field_on_interfaces(result, key='BZ',rtol=1e-11)\n",
    "check_field_on_interfaces(result, key='Bp',rtol=1e-11)"
   ]
  },
  {
   "cell_type": "markdown",
   "metadata": {},
   "source": [
    "## 2. Test Lconstraint=0,1,2 cases, free boundary\n",
    "### 2.1 Three-volume free-boundary vacuum case without stellarator symmetry, FOCUS coil\n",
    "Section 4.1 and Figure 1 in Hudson PPCF 2020 free-boundary SPEC paper\n",
    "\n",
    "_It takes approximately 10 mins to complete the runs. (10s for Zernike, 10mins for master)_"
   ]
  },
  {
   "cell_type": "code",
   "execution_count": 10,
   "metadata": {
    "tags": []
   },
   "outputs": [
    {
     "output_type": "stream",
     "name": "stdout",
     "text": "SPEC is running...\nSPEC runs successfully.\nSPEC is running...\nSPEC runs successfully.\nRbc  matches, diff 2.5228708011582057e-12\nZbs  matches, diff 6.052935930256353e-13\nRbs  matches, diff 6.653323725291926e-13\nZbc  matches, diff 1.6193344408443888e-12\nBR  matches, diff 2.986735858634404e-12\nBZ  matches, diff 2.849775970759083e-12\nBp  matches, diff 3.821165606154864e-12\n"
    }
   ],
   "source": [
    "input_file_name='ci/toroidal_freeboundary_vacuum/G3V02L0Fr.sp'\n",
    "result = run_case(input_file_name, ncpus=3, LradZernike=24, Lradmaster=14)\n",
    "\n",
    "check_interface(result, key='Rbc',rtol=1e-11)\n",
    "check_interface(result, key='Zbs',rtol=1e-11)\n",
    "check_interface(result, key='Rbs',rtol=1e-11)\n",
    "check_interface(result, key='Zbc',rtol=1e-11)\n",
    "check_field_on_interfaces(result, key='BR',rtol=1e-11)\n",
    "check_field_on_interfaces(result, key='BZ',rtol=1e-11)\n",
    "check_field_on_interfaces(result, key='Bp',rtol=1e-11)"
   ]
  },
  {
   "cell_type": "markdown",
   "metadata": {},
   "source": [
    "### 2.2 Free-boundary case with Lconstraint=1, Nvol=8, provided by A. Baillod\n",
    "\n",
    "In this case we have to allow lower error (1e-11) tolerance between the two branches since further increasing `Lrad` for the master branch will lead to ill-conditioning.\n",
    "\n",
    "_It takes approximately 30s to complete the runs. (10s for Zernike, 20s for master)_"
   ]
  },
  {
   "cell_type": "code",
   "execution_count": 11,
   "metadata": {
    "tags": []
   },
   "outputs": [
    {
     "output_type": "stream",
     "name": "stdout",
     "text": "SPEC is running...\n"
    },
    {
     "output_type": "error",
     "ename": "KeyboardInterrupt",
     "evalue": "",
     "traceback": [
      "\u001b[0;31m---------------------------------------------------------------------------\u001b[0m",
      "\u001b[0;31mKeyboardInterrupt\u001b[0m                         Traceback (most recent call last)",
      "\u001b[0;32m<ipython-input-11-56bd73ed2160>\u001b[0m in \u001b[0;36m<module>\u001b[0;34m\u001b[0m\n\u001b[1;32m      4\u001b[0m \u001b[0mreplace_namelist\u001b[0m\u001b[0;34m.\u001b[0m\u001b[0mappend\u001b[0m\u001b[0;34m(\u001b[0m\u001b[0;34m(\u001b[0m\u001b[0;34m'numericlist'\u001b[0m\u001b[0;34m,\u001b[0m \u001b[0;34m'Ndiscrete'\u001b[0m\u001b[0;34m,\u001b[0m \u001b[0;36m4\u001b[0m\u001b[0;34m)\u001b[0m\u001b[0;34m)\u001b[0m\u001b[0;34m\u001b[0m\u001b[0;34m\u001b[0m\u001b[0m\n\u001b[1;32m      5\u001b[0m \u001b[0;34m\u001b[0m\u001b[0m\n\u001b[0;32m----> 6\u001b[0;31m \u001b[0mresult\u001b[0m \u001b[0;34m=\u001b[0m \u001b[0mrun_case\u001b[0m\u001b[0;34m(\u001b[0m\u001b[0minput_file_name\u001b[0m\u001b[0;34m,\u001b[0m \u001b[0mncpus\u001b[0m\u001b[0;34m=\u001b[0m\u001b[0;36m3\u001b[0m\u001b[0;34m,\u001b[0m \u001b[0mLradZernike\u001b[0m\u001b[0;34m=\u001b[0m\u001b[0;36m22\u001b[0m\u001b[0;34m,\u001b[0m \u001b[0mLradmaster\u001b[0m\u001b[0;34m=\u001b[0m\u001b[0;36m9\u001b[0m\u001b[0;34m,\u001b[0m \u001b[0mothers\u001b[0m\u001b[0;34m=\u001b[0m\u001b[0mreplace_namelist\u001b[0m\u001b[0;34m)\u001b[0m\u001b[0;34m\u001b[0m\u001b[0;34m\u001b[0m\u001b[0m\n\u001b[0m\u001b[1;32m      7\u001b[0m \u001b[0;34m\u001b[0m\u001b[0m\n\u001b[1;32m      8\u001b[0m \u001b[0mcheck_interface\u001b[0m\u001b[0;34m(\u001b[0m\u001b[0mresult\u001b[0m\u001b[0;34m,\u001b[0m \u001b[0mkey\u001b[0m\u001b[0;34m=\u001b[0m\u001b[0;34m'Rbc'\u001b[0m\u001b[0;34m,\u001b[0m \u001b[0mrtol\u001b[0m\u001b[0;34m=\u001b[0m\u001b[0;36m1e-11\u001b[0m\u001b[0;34m)\u001b[0m\u001b[0;34m\u001b[0m\u001b[0;34m\u001b[0m\u001b[0m\n",
      "\u001b[0;32m<ipython-input-4-9fd57d399228>\u001b[0m in \u001b[0;36mrun_case\u001b[0;34m(input_file_name, ncpus, LradZernike, Lradmaster, Mpol, Ntor, others)\u001b[0m\n\u001b[1;32m     62\u001b[0m     \u001b[0;31m# run the cases\u001b[0m\u001b[0;34m\u001b[0m\u001b[0;34m\u001b[0m\u001b[0;34m\u001b[0m\u001b[0m\n\u001b[1;32m     63\u001b[0m     \u001b[0mos\u001b[0m\u001b[0;34m.\u001b[0m\u001b[0mchdir\u001b[0m\u001b[0;34m(\u001b[0m\u001b[0mZernike_home_folder\u001b[0m\u001b[0;34m)\u001b[0m\u001b[0;34m\u001b[0m\u001b[0;34m\u001b[0m\u001b[0m\n\u001b[0;32m---> 64\u001b[0;31m     \u001b[0mZernike_output\u001b[0m \u001b[0;34m=\u001b[0m \u001b[0mZernike_namelist\u001b[0m\u001b[0;34m.\u001b[0m\u001b[0mrun\u001b[0m\u001b[0;34m(\u001b[0m\u001b[0mZernike_xspec_command\u001b[0m\u001b[0;34m,\u001b[0m \u001b[0mforce\u001b[0m\u001b[0;34m=\u001b[0m\u001b[0;32mTrue\u001b[0m\u001b[0;34m)\u001b[0m\u001b[0;34m\u001b[0m\u001b[0;34m\u001b[0m\u001b[0m\n\u001b[0m\u001b[1;32m     65\u001b[0m     \u001b[0mos\u001b[0m\u001b[0;34m.\u001b[0m\u001b[0mchdir\u001b[0m\u001b[0;34m(\u001b[0m\u001b[0mmaster_home_folder\u001b[0m\u001b[0;34m)\u001b[0m\u001b[0;34m\u001b[0m\u001b[0;34m\u001b[0m\u001b[0m\n\u001b[1;32m     66\u001b[0m     \u001b[0mmaster_output\u001b[0m \u001b[0;34m=\u001b[0m \u001b[0mmaster_namelist\u001b[0m\u001b[0;34m.\u001b[0m\u001b[0mrun\u001b[0m\u001b[0;34m(\u001b[0m\u001b[0mmaster_xspec_command\u001b[0m\u001b[0;34m,\u001b[0m \u001b[0mforce\u001b[0m\u001b[0;34m=\u001b[0m\u001b[0;32mTrue\u001b[0m\u001b[0;34m)\u001b[0m\u001b[0;34m\u001b[0m\u001b[0;34m\u001b[0m\u001b[0m\n",
      "\u001b[0;32m~/SPEC/Utilities/pythontools/py_spec/SPECNamelist.py\u001b[0m in \u001b[0;36mrun\u001b[0;34m(self, spec_command, filename, force)\u001b[0m\n\u001b[1;32m    170\u001b[0m         \u001b[0mprint\u001b[0m\u001b[0;34m(\u001b[0m\u001b[0;34m'SPEC is running...'\u001b[0m\u001b[0;34m)\u001b[0m\u001b[0;34m\u001b[0m\u001b[0;34m\u001b[0m\u001b[0m\n\u001b[1;32m    171\u001b[0m \u001b[0;34m\u001b[0m\u001b[0m\n\u001b[0;32m--> 172\u001b[0;31m         \u001b[0mrun_result\u001b[0m \u001b[0;34m=\u001b[0m \u001b[0msubprocess\u001b[0m\u001b[0;34m.\u001b[0m\u001b[0mrun\u001b[0m\u001b[0;34m(\u001b[0m\u001b[0mspec_command\u001b[0m \u001b[0;34m+\u001b[0m \u001b[0;34m' '\u001b[0m \u001b[0;34m+\u001b[0m \u001b[0mfilename\u001b[0m\u001b[0;34m,\u001b[0m \u001b[0mshell\u001b[0m\u001b[0;34m=\u001b[0m\u001b[0;32mTrue\u001b[0m\u001b[0;34m)\u001b[0m\u001b[0;34m\u001b[0m\u001b[0;34m\u001b[0m\u001b[0m\n\u001b[0m\u001b[1;32m    173\u001b[0m \u001b[0;34m\u001b[0m\u001b[0m\n\u001b[1;32m    174\u001b[0m         \u001b[0;32mif\u001b[0m \u001b[0mrun_result\u001b[0m\u001b[0;34m.\u001b[0m\u001b[0mreturncode\u001b[0m \u001b[0;34m==\u001b[0m \u001b[0;36m0\u001b[0m\u001b[0;34m:\u001b[0m \u001b[0;31m# the run is successful\u001b[0m\u001b[0;34m\u001b[0m\u001b[0;34m\u001b[0m\u001b[0m\n",
      "\u001b[0;32m/usr/lib64/python3.6/subprocess.py\u001b[0m in \u001b[0;36mrun\u001b[0;34m(input, timeout, check, *popenargs, **kwargs)\u001b[0m\n\u001b[1;32m    423\u001b[0m     \u001b[0;32mwith\u001b[0m \u001b[0mPopen\u001b[0m\u001b[0;34m(\u001b[0m\u001b[0;34m*\u001b[0m\u001b[0mpopenargs\u001b[0m\u001b[0;34m,\u001b[0m \u001b[0;34m**\u001b[0m\u001b[0mkwargs\u001b[0m\u001b[0;34m)\u001b[0m \u001b[0;32mas\u001b[0m \u001b[0mprocess\u001b[0m\u001b[0;34m:\u001b[0m\u001b[0;34m\u001b[0m\u001b[0;34m\u001b[0m\u001b[0m\n\u001b[1;32m    424\u001b[0m         \u001b[0;32mtry\u001b[0m\u001b[0;34m:\u001b[0m\u001b[0;34m\u001b[0m\u001b[0;34m\u001b[0m\u001b[0m\n\u001b[0;32m--> 425\u001b[0;31m             \u001b[0mstdout\u001b[0m\u001b[0;34m,\u001b[0m \u001b[0mstderr\u001b[0m \u001b[0;34m=\u001b[0m \u001b[0mprocess\u001b[0m\u001b[0;34m.\u001b[0m\u001b[0mcommunicate\u001b[0m\u001b[0;34m(\u001b[0m\u001b[0minput\u001b[0m\u001b[0;34m,\u001b[0m \u001b[0mtimeout\u001b[0m\u001b[0;34m=\u001b[0m\u001b[0mtimeout\u001b[0m\u001b[0;34m)\u001b[0m\u001b[0;34m\u001b[0m\u001b[0;34m\u001b[0m\u001b[0m\n\u001b[0m\u001b[1;32m    426\u001b[0m         \u001b[0;32mexcept\u001b[0m \u001b[0mTimeoutExpired\u001b[0m\u001b[0;34m:\u001b[0m\u001b[0;34m\u001b[0m\u001b[0;34m\u001b[0m\u001b[0m\n\u001b[1;32m    427\u001b[0m             \u001b[0mprocess\u001b[0m\u001b[0;34m.\u001b[0m\u001b[0mkill\u001b[0m\u001b[0;34m(\u001b[0m\u001b[0;34m)\u001b[0m\u001b[0;34m\u001b[0m\u001b[0;34m\u001b[0m\u001b[0m\n",
      "\u001b[0;32m/usr/lib64/python3.6/subprocess.py\u001b[0m in \u001b[0;36mcommunicate\u001b[0;34m(self, input, timeout)\u001b[0m\n\u001b[1;32m    853\u001b[0m                 \u001b[0mstderr\u001b[0m \u001b[0;34m=\u001b[0m \u001b[0mself\u001b[0m\u001b[0;34m.\u001b[0m\u001b[0mstderr\u001b[0m\u001b[0;34m.\u001b[0m\u001b[0mread\u001b[0m\u001b[0;34m(\u001b[0m\u001b[0;34m)\u001b[0m\u001b[0;34m\u001b[0m\u001b[0;34m\u001b[0m\u001b[0m\n\u001b[1;32m    854\u001b[0m                 \u001b[0mself\u001b[0m\u001b[0;34m.\u001b[0m\u001b[0mstderr\u001b[0m\u001b[0;34m.\u001b[0m\u001b[0mclose\u001b[0m\u001b[0;34m(\u001b[0m\u001b[0;34m)\u001b[0m\u001b[0;34m\u001b[0m\u001b[0;34m\u001b[0m\u001b[0m\n\u001b[0;32m--> 855\u001b[0;31m             \u001b[0mself\u001b[0m\u001b[0;34m.\u001b[0m\u001b[0mwait\u001b[0m\u001b[0;34m(\u001b[0m\u001b[0;34m)\u001b[0m\u001b[0;34m\u001b[0m\u001b[0;34m\u001b[0m\u001b[0m\n\u001b[0m\u001b[1;32m    856\u001b[0m         \u001b[0;32melse\u001b[0m\u001b[0;34m:\u001b[0m\u001b[0;34m\u001b[0m\u001b[0;34m\u001b[0m\u001b[0m\n\u001b[1;32m    857\u001b[0m             \u001b[0;32mif\u001b[0m \u001b[0mtimeout\u001b[0m \u001b[0;32mis\u001b[0m \u001b[0;32mnot\u001b[0m \u001b[0;32mNone\u001b[0m\u001b[0;34m:\u001b[0m\u001b[0;34m\u001b[0m\u001b[0;34m\u001b[0m\u001b[0m\n",
      "\u001b[0;32m/usr/lib64/python3.6/subprocess.py\u001b[0m in \u001b[0;36mwait\u001b[0;34m(self, timeout, endtime)\u001b[0m\n\u001b[1;32m   1475\u001b[0m                         \u001b[0;32mif\u001b[0m \u001b[0mself\u001b[0m\u001b[0;34m.\u001b[0m\u001b[0mreturncode\u001b[0m \u001b[0;32mis\u001b[0m \u001b[0;32mnot\u001b[0m \u001b[0;32mNone\u001b[0m\u001b[0;34m:\u001b[0m\u001b[0;34m\u001b[0m\u001b[0;34m\u001b[0m\u001b[0m\n\u001b[1;32m   1476\u001b[0m                             \u001b[0;32mbreak\u001b[0m  \u001b[0;31m# Another thread waited.\u001b[0m\u001b[0;34m\u001b[0m\u001b[0;34m\u001b[0m\u001b[0m\n\u001b[0;32m-> 1477\u001b[0;31m                         \u001b[0;34m(\u001b[0m\u001b[0mpid\u001b[0m\u001b[0;34m,\u001b[0m \u001b[0msts\u001b[0m\u001b[0;34m)\u001b[0m \u001b[0;34m=\u001b[0m \u001b[0mself\u001b[0m\u001b[0;34m.\u001b[0m\u001b[0m_try_wait\u001b[0m\u001b[0;34m(\u001b[0m\u001b[0;36m0\u001b[0m\u001b[0;34m)\u001b[0m\u001b[0;34m\u001b[0m\u001b[0;34m\u001b[0m\u001b[0m\n\u001b[0m\u001b[1;32m   1478\u001b[0m                         \u001b[0;31m# Check the pid and loop as waitpid has been known to\u001b[0m\u001b[0;34m\u001b[0m\u001b[0;34m\u001b[0m\u001b[0;34m\u001b[0m\u001b[0m\n\u001b[1;32m   1479\u001b[0m                         \u001b[0;31m# return 0 even without WNOHANG in odd situations.\u001b[0m\u001b[0;34m\u001b[0m\u001b[0;34m\u001b[0m\u001b[0;34m\u001b[0m\u001b[0m\n",
      "\u001b[0;32m/usr/lib64/python3.6/subprocess.py\u001b[0m in \u001b[0;36m_try_wait\u001b[0;34m(self, wait_flags)\u001b[0m\n\u001b[1;32m   1422\u001b[0m             \u001b[0;34m\"\"\"All callers to this function MUST hold self._waitpid_lock.\"\"\"\u001b[0m\u001b[0;34m\u001b[0m\u001b[0;34m\u001b[0m\u001b[0m\n\u001b[1;32m   1423\u001b[0m             \u001b[0;32mtry\u001b[0m\u001b[0;34m:\u001b[0m\u001b[0;34m\u001b[0m\u001b[0;34m\u001b[0m\u001b[0m\n\u001b[0;32m-> 1424\u001b[0;31m                 \u001b[0;34m(\u001b[0m\u001b[0mpid\u001b[0m\u001b[0;34m,\u001b[0m \u001b[0msts\u001b[0m\u001b[0;34m)\u001b[0m \u001b[0;34m=\u001b[0m \u001b[0mos\u001b[0m\u001b[0;34m.\u001b[0m\u001b[0mwaitpid\u001b[0m\u001b[0;34m(\u001b[0m\u001b[0mself\u001b[0m\u001b[0;34m.\u001b[0m\u001b[0mpid\u001b[0m\u001b[0;34m,\u001b[0m \u001b[0mwait_flags\u001b[0m\u001b[0;34m)\u001b[0m\u001b[0;34m\u001b[0m\u001b[0;34m\u001b[0m\u001b[0m\n\u001b[0m\u001b[1;32m   1425\u001b[0m             \u001b[0;32mexcept\u001b[0m \u001b[0mChildProcessError\u001b[0m\u001b[0;34m:\u001b[0m\u001b[0;34m\u001b[0m\u001b[0;34m\u001b[0m\u001b[0m\n\u001b[1;32m   1426\u001b[0m                 \u001b[0;31m# This happens if SIGCLD is set to be ignored or waiting\u001b[0m\u001b[0;34m\u001b[0m\u001b[0;34m\u001b[0m\u001b[0;34m\u001b[0m\u001b[0m\n",
      "\u001b[0;31mKeyboardInterrupt\u001b[0m: "
     ]
    }
   ],
   "source": [
    "input_file_name='InputFiles/TestCases/G3V08L1Fr.001.sp'\n",
    "\n",
    "replace_namelist = list()\n",
    "replace_namelist.append(('numericlist', 'Ndiscrete', 4))\n",
    "\n",
    "result = run_case(input_file_name, ncpus=3, LradZernike=22, Lradmaster=9, others=replace_namelist)\n",
    "\n",
    "check_interface(result, key='Rbc', rtol=1e-11)\n",
    "check_interface(result, key='Zbs', rtol=1e-11)\n",
    "check_field_on_interfaces(result, key='BR', rtol=1e-11)\n",
    "check_field_on_interfaces(result, key='BZ', rtol=1e-11)\n",
    "check_field_on_interfaces(result, key='Bp', rtol=1e-11)"
   ]
  },
  {
   "cell_type": "markdown",
   "metadata": {},
   "source": [
    "### 2.3 VMEC-SPEC benchmark case, 8 volumes\n",
    "\n",
    "Section 4.6, Figure 13 and 14 in Hudson PPCF 2020 free-boundary SPEC paper\n",
    "\n",
    "In this case we reduce `Mpol` to 8 to avoid ill-conditioning. We do not compare to VMEC, but compare the result from the two branches. We have to allow lower error (1e-10) tolerance.\n",
    "\n",
    "_It takes approximately 3 mins to complete the runs. (1 mins for Zernike, 2 mins for master)_"
   ]
  },
  {
   "cell_type": "code",
   "execution_count": 14,
   "metadata": {
    "tags": []
   },
   "outputs": [
    {
     "output_type": "stream",
     "name": "stdout",
     "text": "SPEC is running...\nSPEC runs successfully.\nSPEC is running...\nSPEC runs successfully.\nRbc  matches, diff 5.3939075428388605e-12\nZbs  matches, diff 1.0256240301487196e-11\nBR  matches, diff 1.594037402075088e-14\nBZ  matches, diff 3.6698075134289354e-15\nBp  matches, diff 1.440930708085375e-13\n"
    }
   ],
   "source": [
    "input_file_name='InputFiles/Verification/FreeBoundVMEC/Nv=008.L=12.M=32.n.sp.end'\n",
    "\n",
    "replace_namelist = list()\n",
    "replace_namelist.append(('globallist', 'gBntol', 1e-9))\n",
    "replace_namelist.append(('numericlist', 'Ndiscrete', 4))\n",
    "\n",
    "result = run_case(input_file_name, ncpus=3, LradZernike=16, Lradmaster=10, Mpol=8, others=replace_namelist)\n",
    "\n",
    "check_interface(result, key='Rbc', rtol=1e-10)\n",
    "check_interface(result, key='Zbs', rtol=1e-10)\n",
    "check_field_on_interfaces(result, key='BR', rtol=1e-10)\n",
    "check_field_on_interfaces(result, key='BZ', rtol=1e-10)\n",
    "check_field_on_interfaces(result, key='Bp', rtol=1e-10)"
   ]
  },
  {
   "cell_type": "markdown",
   "metadata": {},
   "source": [
    "## 3. Current constraint\n",
    "### 3.1-Fixed boundary, Lconstraint=3, Lfindzero=1 test \n",
    "\n",
    "Test the Beltrami field and evaluation of the force with the current constraint. The force gradient (Lfindzero=2) is not used here.\n",
    "\n",
    "_This case takes approximately 2mins to run_\n",
    "\n"
   ]
  },
  {
   "cell_type": "code",
   "execution_count": 15,
   "metadata": {
    "tags": []
   },
   "outputs": [
    {
     "output_type": "stream",
     "name": "stdout",
     "text": "SPEC is running...\nSPEC runs successfully.\nSPEC is running...\nSPEC runs successfully.\nRbc  matches, diff 2.914161967293438e-13\nZbs  matches, diff 3.4638958368304884e-13\nBR  matches, diff 1.1304672475898059e-13\nBZ  matches, diff 8.025871633954296e-14\nBp  matches, diff 1.4113710200547303e-14\n"
    }
   ],
   "source": [
    "\n",
    "input_file_name = 'InputFiles/Verification/currentconstraint/TestCases_Comparison/G3V02L3Fi.001.sp'\n",
    "\n",
    "replace_namelist = list()\n",
    "replace_namelist.append(('numericlist', 'Ndiscrete', 4))\n",
    "\n",
    "result = run_case(input_file_name, ncpus=2, LradZernike=16, Lradmaster=10, others=replace_namelist)\n",
    "\n",
    "check_interface(result, key='Rbc')\n",
    "check_interface(result, key='Zbs')\n",
    "check_field_on_interfaces(result, key='BR')\n",
    "check_field_on_interfaces(result, key='BZ')\n",
    "check_field_on_interfaces(result, key='Bp')"
   ]
  },
  {
   "cell_type": "markdown",
   "metadata": {},
   "source": [
    "### 3.2 Fixed-boundary test in slab geometry with current constraint\n",
    "\n",
    "Test the current constraint capability in slab geometry. Only Bp is compared since Bz and Br were not preporly calculated in the master branch in slab geometry.\n",
    "\n",
    "_Expect less than 10s for the Zernike branch to run and about 40s for the master branch to run_"
   ]
  },
  {
   "cell_type": "code",
   "execution_count": 22,
   "metadata": {
    "tags": []
   },
   "outputs": [
    {
     "output_type": "stream",
     "name": "stdout",
     "text": "SPEC is running...\nSPEC runs successfully.\nSPEC is running...\nSPEC runs successfully.\nRbc  matches, diff 1.3322676295501878e-14\nZbs  matches, diff 0.0\nBp  matches, diff 3.0531133177191805e-15\n"
    }
   ],
   "source": [
    "input_file_name = '/home/abaillod/SPEC/InputFiles/TestCases/G1V02L3Fi.001.sp'\n",
    "\n",
    "replace_namelist = list()\n",
    "replace_namelist.append(('numericlist', 'Ndiscrete', 4))\n",
    "\n",
    "result = run_case(input_file_name, ncpus=2, LradZernike=16, Lradmaster=10, Mpol=4, Ntor=2, others=replace_namelist)\n",
    "\n",
    "check_interface(result, key='Rbc')\n",
    "check_interface(result, key='Zbs')\n",
    "check_field_on_interfaces(result, key='Bp')"
   ]
  },
  {
   "cell_type": "markdown",
   "metadata": {},
   "source": [
    "### 3.3 Fixed-boundary test in cylindrical geometry with current constraint\n",
    "\n",
    "Test the current constraint capability in cylindrical geometry.  Only Bp is compared since Bz and Br were not preporly calculated in the master branch in cylindrical geometry.\n",
    "\n",
    "_Expect the Zernike branch to run in about 20s and the master branch in about the same_"
   ]
  },
  {
   "cell_type": "code",
   "execution_count": 21,
   "metadata": {
    "tags": []
   },
   "outputs": [
    {
     "output_type": "stream",
     "name": "stdout",
     "text": "Initial guess of the interface geometry ignored: line  104\nInitial guess of the interface geometry ignored: line  104\nSPEC is running...\nSPEC runs successfully.\nSPEC is running...\nSPEC runs successfully.\nRbc  matches, diff 4.371503159461554e-16\nZbs  matches, diff 0.0\nBp  matches, diff 5.551115123125783e-16\n"
    }
   ],
   "source": [
    "input_file_name = '/home/abaillod/SPEC/InputFiles/TestCases/G2V32L3Fi.001.sp'\n",
    "\n",
    "replace_namelist = list()\n",
    "replace_namelist.append(('numericlist', 'Ndiscrete', 4))\n",
    "\n",
    "result = run_case(input_file_name, ncpus=8, LradZernike=18, Lradmaster=14, others=replace_namelist)\n",
    "\n",
    "check_interface(result, key='Rbc')\n",
    "check_interface(result, key='Zbs')\n",
    "check_field_on_interfaces(result, key='Bp')"
   ]
  },
  {
   "cell_type": "markdown",
   "metadata": {},
   "source": [
    "### 3.4 Free-boundary test in toroidal geometry with current constraint\n",
    "\n",
    "Test the current constraint capability in toroidal geometry This is rather long to run due to the low value of _gBntol_. For some reasons, the master branch appears to be faster than the Zernike branch on this case.\n",
    "\n",
    "The tolerance on RBc and ZBs is set to 1E-10 which might seem large. This can be lowered at the cost of lowering gBntol, which increases drastically the computation time. This value has thus been set for the sake of a rapid test.\n",
    "\n",
    "_Expect ~12min for Zernike (36 free-boundary iterations) and 10min for master branch_"
   ]
  },
  {
   "cell_type": "code",
   "execution_count": 20,
   "metadata": {
    "tags": []
   },
   "outputs": [
    {
     "output_type": "stream",
     "name": "stdout",
     "text": "SPEC is running...\nSPEC runs successfully.\nSPEC is running...\nSPEC runs successfully.\nRbc  matches, diff 2.759614758929274e-11\nZbs  matches, diff 1.2539969063141143e-12\nBR  matches, diff 1.612295366659744e-14\nBZ  matches, diff 1.9571583936839332e-14\nBp  matches, diff 7.600517437644783e-13\n"
    }
   ],
   "source": [
    "input_file_name = '/home/abaillod/SPEC/InputFiles/TestCases/G3V08L3Fr.001.sp'\n",
    "\n",
    "replace_namelist = list()\n",
    "replace_namelist.append(('numericlist', 'Ndiscrete', 4))\n",
    "replace_namelist.append(('globallist', 'gBNtol', 1E-10))\n",
    "replace_namelist.append(('globallist', 'gBnbld', 0.2))\n",
    "replace_namelist.append(('globallist', 'Lfindzero', 2))\n",
    "replace_namelist.append(('globallist', 'mfreeits', 100))\n",
    "\n",
    "result = run_case(input_file_name, ncpus=8, LradZernike=18, Lradmaster=12, Mpol=2, Ntor=1, others=replace_namelist)\n",
    "\n",
    "check_interface(result, key='Rbc', rtol=1e-10)\n",
    "check_interface(result, key='Zbs', rtol=1e-10)\n",
    "check_field_on_interfaces(result, key='BR')\n",
    "check_field_on_interfaces(result, key='BZ')\n",
    "check_field_on_interfaces(result, key='Bp')"
   ]
  },
  {
   "cell_type": "code",
   "execution_count": null,
   "metadata": {},
   "outputs": [],
   "source": []
  }
 ],
 "metadata": {
  "kernelspec": {
   "display_name": "Python 3.6.9 64-bit ('spec': virtualenv)",
   "language": "python",
   "name": "python_defaultSpec_1599715151422"
  },
  "language_info": {
   "codemirror_mode": {
    "name": "ipython",
    "version": 3
   },
   "file_extension": ".py",
   "mimetype": "text/x-python",
   "name": "python",
   "nbconvert_exporter": "python",
   "pygments_lexer": "ipython3",
   "version": "3.6.9-final"
  }
 },
 "nbformat": 4,
 "nbformat_minor": 4
}