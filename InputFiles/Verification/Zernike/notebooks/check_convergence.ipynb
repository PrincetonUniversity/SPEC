{
 "cells": [
  {
   "cell_type": "markdown",
   "metadata": {},
   "source": [
    "# Verifications for the Zernike branch\n",
    "\n",
    "## 0. Set up the environment\n",
    "\n",
    "This notebook compares the Zernike branch and the master (v2.10) branch. These tests should take less than an hour to complete.\n",
    "\n",
    "### 0.1 Clone and compile\n",
    "To start, please checkout the Zernike branch and the master branch (__v2.10, not the latest master__) in two different folders. The following git commands clone these two branches into a folder `Zernike` and a folder `master`.\n",
    "\n",
    "```\n",
    "git clone -b Zernike https://github.com/PrincetonUniversity/SPEC.git Zernike\n",
    "git clone -b v2.10 https://github.com/PrincetonUniversity/SPEC.git master\n",
    "```\n",
    "\n",
    "After cloning, please compile them seperately as normal.\n",
    "\n",
    "### 0.2 Dependencies\n",
    "Before running this notebook, one will need to set up the `py_spec` package. Please use the package in the Zernike branch, not the master branch. \n",
    "\n",
    "One will need `numpy`, `h5py` and `f90nml` packages. If you haven't installed them, please do so by\n",
    "\n",
    "`pip install --user numpy h5py f90nml`\n",
    "\n",
    "Or one can choose to use `conda` to manage the packages.\n",
    "\n",
    "One can set up the `py_spec` package by the following two means:\n",
    "\n",
    "1. Setting the environment before starting Jupyter Notebook\n",
    "\n",
    "`export PYTHONPATH=$PYTHONPATH:/path/to/Zernike/Utilities/pythontools`\n",
    "\n",
    "2. Setting the environment in this Notebook by copying the following commands into a new cell and running them before anything else in this notebook:\n",
    "\n",
    "```python\n",
    "import sys\n",
    "sys.path.append('/path/to/Zernike/Utilities/pythontools')\n",
    "```\n",
    "\n",
    "Then we can import `py_spec` and relevant objects in it."
   ]
  },
  {
   "cell_type": "code",
   "execution_count": 1,
   "metadata": {},
   "outputs": [],
   "source": [
    "import sys\n",
    "sys.path.append('/home/abaillod/SPEC/Utilities/pythontools')"
   ]
  },
  {
   "cell_type": "code",
   "execution_count": 2,
   "metadata": {},
   "outputs": [],
   "source": [
    "import py_spec\n",
    "from py_spec import SPEC\n",
    "from py_spec.SPECNamelist import SPECNamelist\n",
    "import os\n",
    "import numpy as np"
   ]
  },
  {
   "cell_type": "markdown",
   "metadata": {},
   "source": [
    "### 0.3 Specify the path to the input files and the path to the executables, for both v2.10 and the Zernike branch\n",
    "\n",
    "__Please change the following paths to match your machine.__ Also set up the mpi command."
   ]
  },
  {
   "cell_type": "code",
   "execution_count": 3,
   "metadata": {},
   "outputs": [],
   "source": [
    "Zernike_home_folder='/home/abaillod/SPEC'\n",
    "Zernike_executable='/home/abaillod/SPEC/xspec'\n",
    "\n",
    "master_home_folder='/home/abaillod/development/code/master'\n",
    "master_executable='/home/abaillod/development/code/master/xspec'\n",
    "\n",
    "mpirun = 'mpirun'"
   ]
  },
  {
   "cell_type": "markdown",
   "metadata": {},
   "source": [
    "### 0.4 Define a few helper functions that runs the cases and compares the results"
   ]
  },
  {
   "cell_type": "code",
   "execution_count": 4,
   "metadata": {},
   "outputs": [],
   "source": [
    "def run_case(input_file_name, ncpus=1, LradZernike=None, Lradmaster=None, Mpol=None, Ntor=None, others=None):\n",
    "    \n",
    "    class Result:\n",
    "        pass\n",
    "    \n",
    "    # For the Zernike branch\n",
    "\n",
    "    # enter Zernike test directory\n",
    "    os.chdir(Zernike_home_folder)\n",
    "    # uses 3 cpus\n",
    "    Zernike_xspec_command=mpirun + ' -np {:d} ' + Zernike_executable\n",
    "    Zernike_xspec_command=Zernike_xspec_command.format(ncpus)\n",
    "\n",
    "    # read the namelist\n",
    "    Zernike_namelist = SPECNamelist(input_file_name)\n",
    "    # compute the force gradient from scratch\n",
    "    Zernike_namelist['globallist']['LreadGF']=False\n",
    "    # do not update Bns initially\n",
    "    Zernike_namelist['numericlist']['LautoinitBn'] = 0\n",
    "    # do not generate Poincare plots\n",
    "    Zernike_namelist['diagnosticslist']['nppts']=0\n",
    "    # replace the Lrad\n",
    "    if LradZernike is not None:\n",
    "        Zernike_namelist['physicslist']['Lrad'][0] = LradZernike\n",
    "\n",
    "    # For the v2.1 branch\n",
    "\n",
    "    # enter master test directory\n",
    "    os.chdir(master_home_folder)\n",
    "    # uses 3 cpus\n",
    "    master_xspec_command=mpirun + ' -np {:d} ' + master_executable\n",
    "    master_xspec_command=master_xspec_command.format(ncpus)\n",
    "\n",
    "    # read the namelist\n",
    "    master_namelist = SPECNamelist(input_file_name)\n",
    "    # compute the force gradient from scratch\n",
    "    master_namelist['globallist']['LreadGF']=False\n",
    "    # do not update Bns initially\n",
    "    master_namelist['numericlist']['LautoinitBn'] = 0\n",
    "    # do not generate Poincare plots\n",
    "    master_namelist['diagnosticslist']['nppts']=0\n",
    "    # replace the Lrad\n",
    "    if Lradmaster is not None:\n",
    "        master_namelist['physicslist']['Lrad'][0] = Lradmaster\n",
    "        \n",
    "        \n",
    "    # replace Mpol or Ntor\n",
    "    if Mpol is not None or Ntor is not None:\n",
    "        if Ntor is None:\n",
    "            Ntor = Zernike_namelist['physicslist']['Ntor']\n",
    "        if Mpol is None:\n",
    "            Mtor = Zernike_namelist['physicslist']['Ntor']\n",
    "        Zernike_namelist.update_resolution(Mpol, Ntor)\n",
    "        master_namelist.update_resolution(Mpol, Ntor)\n",
    "        \n",
    "    # replace other namelist items\n",
    "    if others is not None:\n",
    "        for item in others:\n",
    "            Zernike_namelist[item[0]][item[1]]=item[2]\n",
    "            master_namelist[item[0]][item[1]]=item[2]\n",
    "        \n",
    "    # run the cases\n",
    "    os.chdir(Zernike_home_folder)\n",
    "    Zernike_output = Zernike_namelist.run(Zernike_xspec_command, force=True)\n",
    "    os.chdir(master_home_folder)\n",
    "    master_output = master_namelist.run(master_xspec_command, force=True)\n",
    "\n",
    "    # define the result object\n",
    "    result = Result()\n",
    "    result.Zernike_output = Zernike_output\n",
    "    result.master_output = master_output\n",
    "    \n",
    "    return result\n",
    "\n",
    "def check_interface(result, key='Rbc', rtol=1e-12):\n",
    "    # check if Rbc matches\n",
    "    Zernike_b=np.array(getattr(result.Zernike_output.output, key))\n",
    "    master_b=np.array(getattr(result.master_output.output, key))\n",
    "    \n",
    "    b_diff = np.max(np.abs(Zernike_b - master_b)) \n",
    "\n",
    "    if (b_diff < rtol):\n",
    "        print(key, \" matches, diff\", b_diff)\n",
    "    else:\n",
    "        print(key, \" doesn't match, diff\", b_diff)\n",
    "        \n",
    "def check_field_on_interfaces(result, key='Bp', rtol=1e-12):\n",
    "    # check if the magnetic field in xyz matches on the interfaces\n",
    "    Mvol = result.Zernike_output.output.Mvol\n",
    "    \n",
    "    diff_B_max = 0.0\n",
    "    B_max = 0.0\n",
    "    for lvol in range(Mvol):\n",
    "        Zernike_B = np.array(getattr(result.Zernike_output.grid, key)[0])\n",
    "        master_B = np.array(getattr(result.master_output.grid, key)[0])\n",
    "        # the inner boundary\n",
    "        if (lvol > 0):\n",
    "            diff_B = np.abs(Zernike_B[:,0]-master_B[:,0])\n",
    "            diff_B_max = np.max([diff_B_max, np.max(diff_B)])\n",
    "            B_max = np.max([B_max, np.max(np.abs(Zernike_B[:,0]))])\n",
    "\n",
    "        # the outer boundary\n",
    "        diff_B = np.abs(Zernike_B[:,-1]-master_B[:,-1])\n",
    "        diff_B_max = np.max([diff_B_max, np.max(diff_B)])\n",
    "        B_max = np.max([B_max, np.max(np.abs(Zernike_B[:,-1]))])\n",
    "\n",
    "    # evaluate error\n",
    "    diff_B_max = diff_B_max \n",
    "\n",
    "    if (diff_B_max < rtol):\n",
    "        print(key, \" matches, diff\", diff_B_max)\n",
    "    else:\n",
    "        print(key, \" doesn't match, diff\", diff_B_max)"
   ]
  },
  {
   "cell_type": "markdown",
   "metadata": {},
   "source": [
    "## 1. Test Lconstraint=0,1,2 cases, fixed boundary\n",
    "### 1.1 Five volume slab with Lconstraint=0\n",
    "The example here uses Lrad=16. Since the radial resolution is very high, they should give the same answer. The magnetic field on the interfaces should match.\n",
    "\n",
    "_It takes approximately a few seconds to complete the runs._"
   ]
  },
  {
   "cell_type": "code",
   "execution_count": 8,
   "metadata": {
    "tags": []
   },
   "outputs": [
    {
     "output_type": "stream",
     "name": "stdout",
     "text": "SPEC is running...\nSPEC runs unsuccessfully, check terminal output.\nSPEC is running...\nSPEC runs unsuccessfully, check terminal output.\n"
    },
    {
     "output_type": "error",
     "ename": "AttributeError",
     "evalue": "'NoneType' object has no attribute 'output'",
     "traceback": [
      "\u001b[0;31m---------------------------------------------------------------------------\u001b[0m",
      "\u001b[0;31mAttributeError\u001b[0m                            Traceback (most recent call last)",
      "\u001b[0;32m<ipython-input-8-55ea36825a13>\u001b[0m in \u001b[0;36m<module>\u001b[0;34m\u001b[0m\n\u001b[1;32m      2\u001b[0m \u001b[0mresult\u001b[0m \u001b[0;34m=\u001b[0m \u001b[0mrun_case\u001b[0m\u001b[0;34m(\u001b[0m\u001b[0minput_file_name\u001b[0m\u001b[0;34m,\u001b[0m \u001b[0mncpus\u001b[0m\u001b[0;34m=\u001b[0m\u001b[0;36m2\u001b[0m\u001b[0;34m)\u001b[0m\u001b[0;34m\u001b[0m\u001b[0;34m\u001b[0m\u001b[0m\n\u001b[1;32m      3\u001b[0m \u001b[0;34m\u001b[0m\u001b[0m\n\u001b[0;32m----> 4\u001b[0;31m \u001b[0mcheck_interface\u001b[0m\u001b[0;34m(\u001b[0m\u001b[0mresult\u001b[0m\u001b[0;34m,\u001b[0m \u001b[0mkey\u001b[0m\u001b[0;34m=\u001b[0m\u001b[0;34m'Rbc'\u001b[0m\u001b[0;34m)\u001b[0m\u001b[0;34m\u001b[0m\u001b[0;34m\u001b[0m\u001b[0m\n\u001b[0m\u001b[1;32m      5\u001b[0m \u001b[0mcheck_field_on_interfaces\u001b[0m\u001b[0;34m(\u001b[0m\u001b[0mresult\u001b[0m\u001b[0;34m,\u001b[0m \u001b[0mkey\u001b[0m\u001b[0;34m=\u001b[0m\u001b[0;34m'Bp'\u001b[0m\u001b[0;34m)\u001b[0m\u001b[0;34m\u001b[0m\u001b[0;34m\u001b[0m\u001b[0m\n",
      "\u001b[0;32m<ipython-input-4-9fd57d399228>\u001b[0m in \u001b[0;36mcheck_interface\u001b[0;34m(result, key, rtol)\u001b[0m\n\u001b[1;32m     75\u001b[0m \u001b[0;32mdef\u001b[0m \u001b[0mcheck_interface\u001b[0m\u001b[0;34m(\u001b[0m\u001b[0mresult\u001b[0m\u001b[0;34m,\u001b[0m \u001b[0mkey\u001b[0m\u001b[0;34m=\u001b[0m\u001b[0;34m'Rbc'\u001b[0m\u001b[0;34m,\u001b[0m \u001b[0mrtol\u001b[0m\u001b[0;34m=\u001b[0m\u001b[0;36m1e-12\u001b[0m\u001b[0;34m)\u001b[0m\u001b[0;34m:\u001b[0m\u001b[0;34m\u001b[0m\u001b[0;34m\u001b[0m\u001b[0m\n\u001b[1;32m     76\u001b[0m     \u001b[0;31m# check if Rbc matches\u001b[0m\u001b[0;34m\u001b[0m\u001b[0;34m\u001b[0m\u001b[0;34m\u001b[0m\u001b[0m\n\u001b[0;32m---> 77\u001b[0;31m     \u001b[0mZernike_b\u001b[0m\u001b[0;34m=\u001b[0m\u001b[0mnp\u001b[0m\u001b[0;34m.\u001b[0m\u001b[0marray\u001b[0m\u001b[0;34m(\u001b[0m\u001b[0mgetattr\u001b[0m\u001b[0;34m(\u001b[0m\u001b[0mresult\u001b[0m\u001b[0;34m.\u001b[0m\u001b[0mZernike_output\u001b[0m\u001b[0;34m.\u001b[0m\u001b[0moutput\u001b[0m\u001b[0;34m,\u001b[0m \u001b[0mkey\u001b[0m\u001b[0;34m)\u001b[0m\u001b[0;34m)\u001b[0m\u001b[0;34m\u001b[0m\u001b[0;34m\u001b[0m\u001b[0m\n\u001b[0m\u001b[1;32m     78\u001b[0m     \u001b[0mmaster_b\u001b[0m\u001b[0;34m=\u001b[0m\u001b[0mnp\u001b[0m\u001b[0;34m.\u001b[0m\u001b[0marray\u001b[0m\u001b[0;34m(\u001b[0m\u001b[0mgetattr\u001b[0m\u001b[0;34m(\u001b[0m\u001b[0mresult\u001b[0m\u001b[0;34m.\u001b[0m\u001b[0mmaster_output\u001b[0m\u001b[0;34m.\u001b[0m\u001b[0moutput\u001b[0m\u001b[0;34m,\u001b[0m \u001b[0mkey\u001b[0m\u001b[0;34m)\u001b[0m\u001b[0;34m)\u001b[0m\u001b[0;34m\u001b[0m\u001b[0;34m\u001b[0m\u001b[0m\n\u001b[1;32m     79\u001b[0m \u001b[0;34m\u001b[0m\u001b[0m\n",
      "\u001b[0;31mAttributeError\u001b[0m: 'NoneType' object has no attribute 'output'"
     ]
    }
   ],
   "source": [
    "input_file_name='/home/abaillod/SPEC/InputFiles/TestCases/G1V05L0Fi.001.sp'\n",
    "result = run_case(input_file_name, ncpus=2)\n",
    "\n",
    "check_interface(result, key='Rbc')\n",
    "check_field_on_interfaces(result, key='Bp')"
   ]
  },
  {
   "cell_type": "markdown",
   "metadata": {},
   "source": [
    "### 1.2 Three volume slab with Lconstraint=2\n",
    "The example here uses Lrad=16. Since the radial resolution is very high, they should give the same answer. The magnetic field on the interfaces should match.\n",
    "This case is used in ci.\n",
    "\n",
    "_It takes approximately a few seconds to complete the runs._"
   ]
  },
  {
   "cell_type": "code",
   "execution_count": 11,
   "metadata": {
    "tags": []
   },
   "outputs": [
    {
     "output_type": "stream",
     "name": "stdout",
     "text": "SPEC is running...\nSPEC runs successfully.\nSPEC is running...\nSPEC runs successfully.\nRbc  matches, diff 8.881784197001252e-16\nBp  matches, diff 1.0408340855860843e-17\n"
    }
   ],
   "source": [
    "input_file_name='InputFiles/TestCases/G1V03L2Fi.002.sp'\n",
    "result = run_case(input_file_name, ncpus=2)\n",
    "\n",
    "check_interface(result, key='Rbc')\n",
    "check_field_on_interfaces(result, key='Bp')"
   ]
  },
  {
   "cell_type": "markdown",
   "metadata": {},
   "source": [
    "### 1.3 32 volume cylinder with Lconstraint=1\n",
    "The example here uses Lrad=12. Since the radial resolution is very high, they should give the same answer. The magnetic field on the interfaces should match.\n",
    "This case is used in ci.\n",
    "\n",
    "_It takes approximately a few seconds to complete the runs._"
   ]
  },
  {
   "cell_type": "code",
   "execution_count": 12,
   "metadata": {
    "tags": []
   },
   "outputs": [
    {
     "output_type": "stream",
     "name": "stdout",
     "text": "Initial guess of the interface geometry ignored: line  102\nInitial guess of the interface geometry ignored: line  102\nSPEC is running...\nSPEC runs successfully.\nSPEC is running...\nSPEC runs successfully.\nRbc  matches, diff 2.8449465006019636e-16\nBp  matches, diff 2.3314683517128287e-15\n"
    }
   ],
   "source": [
    "input_file_name='ci/G2V32L1Fi/G2V32L1Fi.001.sp'\n",
    "result = run_case(input_file_name, ncpus=2)\n",
    "\n",
    "check_interface(result, key='Rbc')\n",
    "check_field_on_interfaces(result, key='Bp')"
   ]
  },
  {
   "cell_type": "markdown",
   "metadata": {},
   "source": [
    "### 1.4 Two-volume rotating ellipse case with Lconstraint=1\n",
    "We force it to have Lrad=16 in the first volume. Since the radial resolution is very high, they should give the same answer. The magnetic field on the interfaces should match.\n",
    "\n",
    "_It takes approximately 5 mins to complete the runs. (10s for Zernike, 5 mins for master)_"
   ]
  },
  {
   "cell_type": "code",
   "execution_count": 13,
   "metadata": {
    "tags": []
   },
   "outputs": [
    {
     "output_type": "stream",
     "name": "stdout",
     "text": "SPEC is running...\nSPEC runs successfully.\nSPEC is running...\nSPEC runs successfully.\nRbc  matches, diff 7.912559496503491e-13\nZbs  matches, diff 9.325873406851315e-13\nBR  matches, diff 2.0873580641733724e-13\nBZ  matches, diff 1.497031665298465e-13\nBp  matches, diff 2.8657631823136853e-14\n"
    }
   ],
   "source": [
    "input_file_name='InputFiles/TestCases/G3V02L1Fi.001.sp'\n",
    "result = run_case(input_file_name, ncpus=2, LradZernike=16, Lradmaster=16)\n",
    "\n",
    "check_interface(result, key='Rbc')\n",
    "check_interface(result, key='Zbs')\n",
    "check_field_on_interfaces(result, key='BR')\n",
    "check_field_on_interfaces(result, key='BZ')\n",
    "check_field_on_interfaces(result, key='Bp')"
   ]
  },
  {
   "cell_type": "markdown",
   "metadata": {},
   "source": [
    "### 1.5 Single-volume W7X OP1.1 fixed boundary\n",
    "\n",
    "The magnetic field on the plasma boundary is compared, tolerance set to 1e-11 (further increase resolution will lead to ill-conditioning in the master branch)\n",
    "\n",
    "_It takes approximately a minute to complete the runs. (5s for Zernike, 30s for master)_"
   ]
  },
  {
   "cell_type": "code",
   "execution_count": 14,
   "metadata": {
    "tags": []
   },
   "outputs": [
    {
     "output_type": "stream",
     "name": "stdout",
     "text": "SPEC is running...\nSPEC runs successfully.\nSPEC is running...\nSPEC runs successfully.\nBR  matches, diff 4.036104783722294e-12\nBZ  matches, diff 5.508166839307549e-12\nBp  matches, diff 2.2598589666245061e-13\n"
    }
   ],
   "source": [
    "input_file_name='InputFiles/TestCases/G3V01L0Fi.002.sp'\n",
    "result = run_case(input_file_name, ncpus=1, LradZernike=32, Lradmaster=14, Mpol=8, Ntor=8)\n",
    "\n",
    "check_field_on_interfaces(result, key='BR',rtol=1e-11)\n",
    "check_field_on_interfaces(result, key='BZ',rtol=1e-11)\n",
    "check_field_on_interfaces(result, key='Bp',rtol=1e-11)"
   ]
  },
  {
   "cell_type": "markdown",
   "metadata": {},
   "source": [
    "## 2. Test Lconstraint=0,1,2 cases, free boundary\n",
    "### 2.1 Three-volume free-boundary vacuum case without stellarator symmetry, FOCUS coil\n",
    "Section 4.1 and Figure 1 in Hudson PPCF 2020 free-boundary SPEC paper\n",
    "\n",
    "_It takes approximately 10 mins to complete the runs. (10s for Zernike, 10mins for master)_"
   ]
  },
  {
   "cell_type": "code",
   "execution_count": 15,
   "metadata": {
    "tags": []
   },
   "outputs": [
    {
     "output_type": "stream",
     "name": "stdout",
     "text": "SPEC is running...\nSPEC runs successfully.\nSPEC is running...\nSPEC runs successfully.\nRbc  matches, diff 1.7195134205394424e-12\nZbs  matches, diff 3.4533487180965494e-13\nRbs  matches, diff 2.953089162094358e-13\nZbc  matches, diff 3.704216837777108e-13\nBR  matches, diff 1.5695708621699112e-12\nBZ  matches, diff 1.3319345626428003e-12\nBp  matches, diff 2.213118577287787e-12\n"
    }
   ],
   "source": [
    "input_file_name='ci/toroidal_freeboundary_vacuum/G3V02L0Fr.sp'\n",
    "result = run_case(input_file_name, ncpus=3, LradZernike=24, Lradmaster=14)\n",
    "\n",
    "check_interface(result, key='Rbc',rtol=1e-11)\n",
    "check_interface(result, key='Zbs',rtol=1e-11)\n",
    "check_interface(result, key='Rbs',rtol=1e-11)\n",
    "check_interface(result, key='Zbc',rtol=1e-11)\n",
    "check_field_on_interfaces(result, key='BR',rtol=1e-11)\n",
    "check_field_on_interfaces(result, key='BZ',rtol=1e-11)\n",
    "check_field_on_interfaces(result, key='Bp',rtol=1e-11)"
   ]
  },
  {
   "cell_type": "markdown",
   "metadata": {},
   "source": [
    "### 2.2 Free-boundary case with Lconstraint=1, Nvol=8, provided by A. Baillod\n",
    "\n",
    "In this case we have to allow lower error (1e-11) tolerance between the two branches since further increasing `Lrad` for the master branch will lead to ill-conditioning.\n",
    "\n",
    "_It takes approximately 30s to complete the runs. (10s for Zernike, 20s for master)_"
   ]
  },
  {
   "cell_type": "code",
   "execution_count": 23,
   "metadata": {
    "tags": []
   },
   "outputs": [
    {
     "output_type": "stream",
     "name": "stdout",
     "text": "SPEC is running...\nSPEC runs unsuccessfully, check terminal output.\nSPEC is running...\nSPEC runs successfully.\n"
    },
    {
     "output_type": "error",
     "ename": "AttributeError",
     "evalue": "'NoneType' object has no attribute 'output'",
     "traceback": [
      "\u001b[0;31m---------------------------------------------------------------------------\u001b[0m",
      "\u001b[0;31mAttributeError\u001b[0m                            Traceback (most recent call last)",
      "\u001b[0;32m<ipython-input-23-56bd73ed2160>\u001b[0m in \u001b[0;36m<module>\u001b[0;34m\u001b[0m\n\u001b[1;32m      6\u001b[0m \u001b[0mresult\u001b[0m \u001b[0;34m=\u001b[0m \u001b[0mrun_case\u001b[0m\u001b[0;34m(\u001b[0m\u001b[0minput_file_name\u001b[0m\u001b[0;34m,\u001b[0m \u001b[0mncpus\u001b[0m\u001b[0;34m=\u001b[0m\u001b[0;36m3\u001b[0m\u001b[0;34m,\u001b[0m \u001b[0mLradZernike\u001b[0m\u001b[0;34m=\u001b[0m\u001b[0;36m22\u001b[0m\u001b[0;34m,\u001b[0m \u001b[0mLradmaster\u001b[0m\u001b[0;34m=\u001b[0m\u001b[0;36m9\u001b[0m\u001b[0;34m,\u001b[0m \u001b[0mothers\u001b[0m\u001b[0;34m=\u001b[0m\u001b[0mreplace_namelist\u001b[0m\u001b[0;34m)\u001b[0m\u001b[0;34m\u001b[0m\u001b[0;34m\u001b[0m\u001b[0m\n\u001b[1;32m      7\u001b[0m \u001b[0;34m\u001b[0m\u001b[0m\n\u001b[0;32m----> 8\u001b[0;31m \u001b[0mcheck_interface\u001b[0m\u001b[0;34m(\u001b[0m\u001b[0mresult\u001b[0m\u001b[0;34m,\u001b[0m \u001b[0mkey\u001b[0m\u001b[0;34m=\u001b[0m\u001b[0;34m'Rbc'\u001b[0m\u001b[0;34m,\u001b[0m \u001b[0mrtol\u001b[0m\u001b[0;34m=\u001b[0m\u001b[0;36m1e-11\u001b[0m\u001b[0;34m)\u001b[0m\u001b[0;34m\u001b[0m\u001b[0;34m\u001b[0m\u001b[0m\n\u001b[0m\u001b[1;32m      9\u001b[0m \u001b[0mcheck_interface\u001b[0m\u001b[0;34m(\u001b[0m\u001b[0mresult\u001b[0m\u001b[0;34m,\u001b[0m \u001b[0mkey\u001b[0m\u001b[0;34m=\u001b[0m\u001b[0;34m'Zbs'\u001b[0m\u001b[0;34m,\u001b[0m \u001b[0mrtol\u001b[0m\u001b[0;34m=\u001b[0m\u001b[0;36m1e-11\u001b[0m\u001b[0;34m)\u001b[0m\u001b[0;34m\u001b[0m\u001b[0;34m\u001b[0m\u001b[0m\n\u001b[1;32m     10\u001b[0m \u001b[0mcheck_field_on_interfaces\u001b[0m\u001b[0;34m(\u001b[0m\u001b[0mresult\u001b[0m\u001b[0;34m,\u001b[0m \u001b[0mkey\u001b[0m\u001b[0;34m=\u001b[0m\u001b[0;34m'BR'\u001b[0m\u001b[0;34m,\u001b[0m \u001b[0mrtol\u001b[0m\u001b[0;34m=\u001b[0m\u001b[0;36m1e-11\u001b[0m\u001b[0;34m)\u001b[0m\u001b[0;34m\u001b[0m\u001b[0;34m\u001b[0m\u001b[0m\n",
      "\u001b[0;32m<ipython-input-9-9fd57d399228>\u001b[0m in \u001b[0;36mcheck_interface\u001b[0;34m(result, key, rtol)\u001b[0m\n\u001b[1;32m     75\u001b[0m \u001b[0;32mdef\u001b[0m \u001b[0mcheck_interface\u001b[0m\u001b[0;34m(\u001b[0m\u001b[0mresult\u001b[0m\u001b[0;34m,\u001b[0m \u001b[0mkey\u001b[0m\u001b[0;34m=\u001b[0m\u001b[0;34m'Rbc'\u001b[0m\u001b[0;34m,\u001b[0m \u001b[0mrtol\u001b[0m\u001b[0;34m=\u001b[0m\u001b[0;36m1e-12\u001b[0m\u001b[0;34m)\u001b[0m\u001b[0;34m:\u001b[0m\u001b[0;34m\u001b[0m\u001b[0;34m\u001b[0m\u001b[0m\n\u001b[1;32m     76\u001b[0m     \u001b[0;31m# check if Rbc matches\u001b[0m\u001b[0;34m\u001b[0m\u001b[0;34m\u001b[0m\u001b[0;34m\u001b[0m\u001b[0m\n\u001b[0;32m---> 77\u001b[0;31m     \u001b[0mZernike_b\u001b[0m\u001b[0;34m=\u001b[0m\u001b[0mnp\u001b[0m\u001b[0;34m.\u001b[0m\u001b[0marray\u001b[0m\u001b[0;34m(\u001b[0m\u001b[0mgetattr\u001b[0m\u001b[0;34m(\u001b[0m\u001b[0mresult\u001b[0m\u001b[0;34m.\u001b[0m\u001b[0mZernike_output\u001b[0m\u001b[0;34m.\u001b[0m\u001b[0moutput\u001b[0m\u001b[0;34m,\u001b[0m \u001b[0mkey\u001b[0m\u001b[0;34m)\u001b[0m\u001b[0;34m)\u001b[0m\u001b[0;34m\u001b[0m\u001b[0;34m\u001b[0m\u001b[0m\n\u001b[0m\u001b[1;32m     78\u001b[0m     \u001b[0mmaster_b\u001b[0m\u001b[0;34m=\u001b[0m\u001b[0mnp\u001b[0m\u001b[0;34m.\u001b[0m\u001b[0marray\u001b[0m\u001b[0;34m(\u001b[0m\u001b[0mgetattr\u001b[0m\u001b[0;34m(\u001b[0m\u001b[0mresult\u001b[0m\u001b[0;34m.\u001b[0m\u001b[0mmaster_output\u001b[0m\u001b[0;34m.\u001b[0m\u001b[0moutput\u001b[0m\u001b[0;34m,\u001b[0m \u001b[0mkey\u001b[0m\u001b[0;34m)\u001b[0m\u001b[0;34m)\u001b[0m\u001b[0;34m\u001b[0m\u001b[0;34m\u001b[0m\u001b[0m\n\u001b[1;32m     79\u001b[0m \u001b[0;34m\u001b[0m\u001b[0m\n",
      "\u001b[0;31mAttributeError\u001b[0m: 'NoneType' object has no attribute 'output'"
     ]
    }
   ],
   "source": [
    "input_file_name='InputFiles/TestCases/G3V08L1Fr.001.sp'\n",
    "\n",
    "replace_namelist = list()\n",
    "replace_namelist.append(('numericlist', 'Ndiscrete', 4))\n",
    "\n",
    "result = run_case(input_file_name, ncpus=3, LradZernike=22, Lradmaster=9, others=replace_namelist)\n",
    "\n",
    "check_interface(result, key='Rbc', rtol=1e-11)\n",
    "check_interface(result, key='Zbs', rtol=1e-11)\n",
    "check_field_on_interfaces(result, key='BR', rtol=1e-11)\n",
    "check_field_on_interfaces(result, key='BZ', rtol=1e-11)\n",
    "check_field_on_interfaces(result, key='Bp', rtol=1e-11)"
   ]
  },
  {
   "cell_type": "markdown",
   "metadata": {},
   "source": [
    "### 2.3 VMEC-SPEC benchmark case, 8 volumes\n",
    "\n",
    "Section 4.6, Figure 13 and 14 in Hudson PPCF 2020 free-boundary SPEC paper\n",
    "\n",
    "In this case we reduce `Mpol` to 8 to avoid ill-conditioning. We do not compare to VMEC, but compare the result from the two branches. We have to allow lower error (1e-10) tolerance.\n",
    "\n",
    "_It takes approximately 3 mins to complete the runs. (1 mins for Zernike, 2 mins for master)_"
   ]
  },
  {
   "cell_type": "code",
   "execution_count": 17,
   "metadata": {
    "tags": []
   },
   "outputs": [
    {
     "output_type": "stream",
     "name": "stdout",
     "text": "SPEC is running...\nSPEC runs successfully.\nSPEC is running...\nSPEC runs successfully.\nRbc  doesn't match, diff 0.046951607953181096\nZbs  doesn't match, diff 0.040578280281378554\nBR  doesn't match, diff 7.548983592228515e-06\nBZ  doesn't match, diff 0.00010768775658123904\nBp  doesn't match, diff 0.0009112676722042232\n"
    }
   ],
   "source": [
    "input_file_name='InputFiles/Verification/FreeBoundVMEC/Nv=008.L=12.M=32.n.sp.end'\n",
    "\n",
    "replace_namelist = list()\n",
    "replace_namelist.append(('globallist', 'gBntol', 1e-9))\n",
    "replace_namelist.append(('numericlist', 'Ndiscrete', 4))\n",
    "\n",
    "result = run_case(input_file_name, ncpus=3, LradZernike=16, Lradmaster=10, Mpol=8, others=replace_namelist)\n",
    "\n",
    "check_interface(result, key='Rbc', rtol=1e-10)\n",
    "check_interface(result, key='Zbs', rtol=1e-10)\n",
    "check_field_on_interfaces(result, key='BR', rtol=1e-10)\n",
    "check_field_on_interfaces(result, key='BZ', rtol=1e-10)\n",
    "check_field_on_interfaces(result, key='Bp', rtol=1e-10)"
   ]
  },
  {
   "cell_type": "markdown",
   "metadata": {},
   "source": [
    "## 3. Current constraint\n",
    "### 3.1 Fixed boundary, Lconstraint=3, Lfindzero=1 test \n",
    "\n",
    "Test the Beltrami field and evaluation of the force with the current constraint. The force gradient (Lfindzero=2) is not used here\n",
    "\n",
    "_This case takes approximately 2mins to run_\n",
    "\n"
   ]
  },
  {
   "cell_type": "code",
   "execution_count": 18,
   "metadata": {
    "tags": []
   },
   "outputs": [
    {
     "output_type": "stream",
     "name": "stdout",
     "text": "SPEC is running...\nSPEC runs successfully.\nSPEC is running...\nSPEC runs successfully.\nRbc  matches, diff 4.752587212664139e-13\nZbs  matches, diff 3.921229660419634e-13\nBR  matches, diff 1.0839246167293481e-13\nBZ  matches, diff 8.220507607958893e-14\nBp  matches, diff 1.3461454173580023e-14\n"
    }
   ],
   "source": [
    "\n",
    "input_file_name = 'InputFiles/Verification/currentconstraint/TestCases_Comparison/G3V02L3Fi.001.sp'\n",
    "\n",
    "replace_namelist = list()\n",
    "replace_namelist.append(('numericlist', 'Ndiscrete', 4))\n",
    "\n",
    "result = run_case(input_file_name, ncpus=2, LradZernike=16, Lradmaster=10, others=replace_namelist)\n",
    "\n",
    "check_interface(result, key='Rbc', rtol=1e-11)\n",
    "check_interface(result, key='Zbs', rtol=1e-11)\n",
    "check_field_on_interfaces(result, key='BR', rtol=1e-11)\n",
    "check_field_on_interfaces(result, key='BZ', rtol=1e-11)\n",
    "check_field_on_interfaces(result, key='Bp', rtol=1e-11)"
   ]
  },
  {
   "cell_type": "markdown",
   "metadata": {},
   "source": [
    "## 3.2 Free boundary, Lconstraint=3, Lfindzero=1 test\n",
    "\n",
    "Same as 3.1, but this time in free boundary\n",
    "\n",
    "_This test is quite slow due to Lfindzero=1. Expect 30min to run_"
   ]
  },
  {
   "cell_type": "code",
   "execution_count": 19,
   "metadata": {
    "tags": []
   },
   "outputs": [
    {
     "output_type": "stream",
     "name": "stdout",
     "text": "SPEC is running...\nSPEC runs successfully.\nSPEC is running...\nSPEC runs successfully.\nRbc  doesn't match, diff 0.0014289624449670413\nZbs  doesn't match, diff 0.00019816370412784057\nBR  doesn't match, diff 6.104892963350664e-07\nBZ  doesn't match, diff 1.0979968569730866e-06\nBp  doesn't match, diff 3.3091531732365453e-05\n"
    }
   ],
   "source": [
    "\n",
    "input_file_name = 'InputFiles/Verification/currentconstraint/TestCases_Comparison/G3V08L3Fr.001.sp'\n",
    "\n",
    "replace_namelist = list()\n",
    "replace_namelist.append(('numericlist', 'Ndiscrete', 4))\n",
    "\n",
    "result = run_case(input_file_name, ncpus=8, LradZernike=16, Lradmaster=10, others=replace_namelist)\n",
    "\n",
    "check_interface(result, key='Rbc', rtol=1e-11)\n",
    "check_interface(result, key='Zbs', rtol=1e-11)\n",
    "check_field_on_interfaces(result, key='BR', rtol=1e-11)\n",
    "check_field_on_interfaces(result, key='BZ', rtol=1e-11)\n",
    "check_field_on_interfaces(result, key='Bp', rtol=1e-11)"
   ]
  },
  {
   "cell_type": "markdown",
   "metadata": {},
   "source": [
    "## 3.3 Free boundary, Lconstraint=3, Lfindzero=2\n",
    "\n",
    "Now that we are sure that the Beltrami field and the force evaluation is correct, test the force gradient using Lconstraint=2. "
   ]
  },
  {
   "cell_type": "code",
   "execution_count": 11,
   "metadata": {
    "tags": []
   },
   "outputs": [
    {
     "output_type": "stream",
     "name": "stdout",
     "text": "SPEC is running...\nSPEC runs unsuccessfully, check terminal output.\nSPEC is running...\nSPEC runs unsuccessfully, check terminal output.\n"
    },
    {
     "output_type": "error",
     "ename": "AttributeError",
     "evalue": "'NoneType' object has no attribute 'output'",
     "traceback": [
      "\u001b[0;31m---------------------------------------------------------------------------\u001b[0m",
      "\u001b[0;31mAttributeError\u001b[0m                            Traceback (most recent call last)",
      "\u001b[0;32m<ipython-input-11-a52174df36b2>\u001b[0m in \u001b[0;36m<module>\u001b[0;34m\u001b[0m\n\u001b[1;32m      6\u001b[0m \u001b[0mresult\u001b[0m \u001b[0;34m=\u001b[0m \u001b[0mrun_case\u001b[0m\u001b[0;34m(\u001b[0m\u001b[0minput_file_name\u001b[0m\u001b[0;34m,\u001b[0m \u001b[0mncpus\u001b[0m\u001b[0;34m=\u001b[0m\u001b[0;36m8\u001b[0m\u001b[0;34m,\u001b[0m \u001b[0mLradZernike\u001b[0m\u001b[0;34m=\u001b[0m\u001b[0;36m16\u001b[0m\u001b[0;34m,\u001b[0m \u001b[0mLradmaster\u001b[0m\u001b[0;34m=\u001b[0m\u001b[0;36m6\u001b[0m\u001b[0;34m,\u001b[0m \u001b[0mothers\u001b[0m\u001b[0;34m=\u001b[0m\u001b[0mreplace_namelist\u001b[0m\u001b[0;34m)\u001b[0m\u001b[0;34m\u001b[0m\u001b[0;34m\u001b[0m\u001b[0m\n\u001b[1;32m      7\u001b[0m \u001b[0;34m\u001b[0m\u001b[0m\n\u001b[0;32m----> 8\u001b[0;31m \u001b[0mcheck_interface\u001b[0m\u001b[0;34m(\u001b[0m\u001b[0mresult\u001b[0m\u001b[0;34m,\u001b[0m \u001b[0mkey\u001b[0m\u001b[0;34m=\u001b[0m\u001b[0;34m'Rbc'\u001b[0m\u001b[0;34m,\u001b[0m \u001b[0mrtol\u001b[0m\u001b[0;34m=\u001b[0m\u001b[0;36m1e-11\u001b[0m\u001b[0;34m)\u001b[0m\u001b[0;34m\u001b[0m\u001b[0;34m\u001b[0m\u001b[0m\n\u001b[0m\u001b[1;32m      9\u001b[0m \u001b[0mcheck_interface\u001b[0m\u001b[0;34m(\u001b[0m\u001b[0mresult\u001b[0m\u001b[0;34m,\u001b[0m \u001b[0mkey\u001b[0m\u001b[0;34m=\u001b[0m\u001b[0;34m'Zbs'\u001b[0m\u001b[0;34m,\u001b[0m \u001b[0mrtol\u001b[0m\u001b[0;34m=\u001b[0m\u001b[0;36m1e-11\u001b[0m\u001b[0;34m)\u001b[0m\u001b[0;34m\u001b[0m\u001b[0;34m\u001b[0m\u001b[0m\n\u001b[1;32m     10\u001b[0m \u001b[0mcheck_field_on_interfaces\u001b[0m\u001b[0;34m(\u001b[0m\u001b[0mresult\u001b[0m\u001b[0;34m,\u001b[0m \u001b[0mkey\u001b[0m\u001b[0;34m=\u001b[0m\u001b[0;34m'BR'\u001b[0m\u001b[0;34m,\u001b[0m \u001b[0mrtol\u001b[0m\u001b[0;34m=\u001b[0m\u001b[0;36m1e-11\u001b[0m\u001b[0;34m)\u001b[0m\u001b[0;34m\u001b[0m\u001b[0;34m\u001b[0m\u001b[0m\n",
      "\u001b[0;32m<ipython-input-4-9fd57d399228>\u001b[0m in \u001b[0;36mcheck_interface\u001b[0;34m(result, key, rtol)\u001b[0m\n\u001b[1;32m     75\u001b[0m \u001b[0;32mdef\u001b[0m \u001b[0mcheck_interface\u001b[0m\u001b[0;34m(\u001b[0m\u001b[0mresult\u001b[0m\u001b[0;34m,\u001b[0m \u001b[0mkey\u001b[0m\u001b[0;34m=\u001b[0m\u001b[0;34m'Rbc'\u001b[0m\u001b[0;34m,\u001b[0m \u001b[0mrtol\u001b[0m\u001b[0;34m=\u001b[0m\u001b[0;36m1e-12\u001b[0m\u001b[0;34m)\u001b[0m\u001b[0;34m:\u001b[0m\u001b[0;34m\u001b[0m\u001b[0;34m\u001b[0m\u001b[0m\n\u001b[1;32m     76\u001b[0m     \u001b[0;31m# check if Rbc matches\u001b[0m\u001b[0;34m\u001b[0m\u001b[0;34m\u001b[0m\u001b[0;34m\u001b[0m\u001b[0m\n\u001b[0;32m---> 77\u001b[0;31m     \u001b[0mZernike_b\u001b[0m\u001b[0;34m=\u001b[0m\u001b[0mnp\u001b[0m\u001b[0;34m.\u001b[0m\u001b[0marray\u001b[0m\u001b[0;34m(\u001b[0m\u001b[0mgetattr\u001b[0m\u001b[0;34m(\u001b[0m\u001b[0mresult\u001b[0m\u001b[0;34m.\u001b[0m\u001b[0mZernike_output\u001b[0m\u001b[0;34m.\u001b[0m\u001b[0moutput\u001b[0m\u001b[0;34m,\u001b[0m \u001b[0mkey\u001b[0m\u001b[0;34m)\u001b[0m\u001b[0;34m)\u001b[0m\u001b[0;34m\u001b[0m\u001b[0;34m\u001b[0m\u001b[0m\n\u001b[0m\u001b[1;32m     78\u001b[0m     \u001b[0mmaster_b\u001b[0m\u001b[0;34m=\u001b[0m\u001b[0mnp\u001b[0m\u001b[0;34m.\u001b[0m\u001b[0marray\u001b[0m\u001b[0;34m(\u001b[0m\u001b[0mgetattr\u001b[0m\u001b[0;34m(\u001b[0m\u001b[0mresult\u001b[0m\u001b[0;34m.\u001b[0m\u001b[0mmaster_output\u001b[0m\u001b[0;34m.\u001b[0m\u001b[0moutput\u001b[0m\u001b[0;34m,\u001b[0m \u001b[0mkey\u001b[0m\u001b[0;34m)\u001b[0m\u001b[0;34m)\u001b[0m\u001b[0;34m\u001b[0m\u001b[0;34m\u001b[0m\u001b[0m\n\u001b[1;32m     79\u001b[0m \u001b[0;34m\u001b[0m\u001b[0m\n",
      "\u001b[0;31mAttributeError\u001b[0m: 'NoneType' object has no attribute 'output'"
     ]
    }
   ],
   "source": [
    "input_file_name = '/home/abaillod/SPEC/InputFiles/TestCases/G3V08L3Fr.001.sp'\n",
    "\n",
    "replace_namelist = list()\n",
    "replace_namelist.append(('numericlist', 'Ndiscrete', 4))\n",
    "\n",
    "result = run_case(input_file_name, ncpus=8, LradZernike=16, Lradmaster=6, others=replace_namelist)\n",
    "\n",
    "check_interface(result, key='Rbc', rtol=1e-11)\n",
    "check_interface(result, key='Zbs', rtol=1e-11)\n",
    "check_field_on_interfaces(result, key='BR', rtol=1e-11)\n",
    "check_field_on_interfaces(result, key='BZ', rtol=1e-11)\n",
    "check_field_on_interfaces(result, key='Bp', rtol=1e-11)"
   ]
  },
  {
   "cell_type": "code",
   "execution_count": null,
   "metadata": {},
   "outputs": [],
   "source": []
  }
 ],
 "metadata": {
  "kernelspec": {
   "display_name": "Python 3.6.9 64-bit ('spec': virtualenv)",
   "language": "python",
   "name": "python_defaultSpec_1598953554185"
  },
  "language_info": {
   "codemirror_mode": {
    "name": "ipython",
    "version": 3
   },
   "file_extension": ".py",
   "mimetype": "text/x-python",
   "name": "python",
   "nbconvert_exporter": "python",
   "pygments_lexer": "ipython3",
   "version": "3.6.9-final"
  }
 },
 "nbformat": 4,
 "nbformat_minor": 4
}